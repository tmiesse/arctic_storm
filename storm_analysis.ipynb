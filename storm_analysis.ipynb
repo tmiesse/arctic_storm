{
 "cells": [
  {
   "cell_type": "markdown",
   "metadata": {},
   "source": [
    "# Model Output Notebook\n",
    "\n",
    "<img style=\"float:center;\" src=\"https://arcticexpansion.vse.gmu.edu/sites/arcticexpansion.vsnet.gmu.edu/files/images/header5d2.png\" width=600px>\n",
    "\n",
    "### ADCIRC-SWAN Output\n"
   ]
  },
  {
   "cell_type": "markdown",
   "metadata": {},
   "source": [
    "#### initialize libraries"
   ]
  },
  {
   "cell_type": "code",
   "execution_count": 1,
   "metadata": {},
   "outputs": [],
   "source": [
    "import warnings;warnings.filterwarnings(\"ignore\")\n",
    "import netCDF4 as nc4;        import pandas as pd\n",
    "import requests;              import json;\n",
    "import matplotlib as mpl;     import matplotlib.pyplot as plt\n",
    "import numpy as np;           import pyproj\n",
    "import datetime as dt;        import cartopy as cart\n",
    "import cartopy.crs as ccrs;   import cartopy.io.img_tiles as cart_img\n",
    "import scipy.interpolate;     import cmocean\n",
    "import seaborn as sns;        import geopandas as gpd\n",
    "import matplotlib.tri as tri; import imageio\n",
    "import pathlib as pl;         from sklearn.neighbors import BallTree\n",
    "import xarray as xr;          \n",
    "\n",
    "import cartopy.io.img_tiles as cimgt\n",
    "from cartopy import config\n",
    "from shapely import Polygon,Point,MultiPoint,LineString,MultiLineString;import shapely.vectorized"
   ]
  },
  {
   "cell_type": "markdown",
   "metadata": {},
   "source": [
    "#### Initialize paths\n",
    "---"
   ]
  },
  {
   "cell_type": "code",
   "execution_count": 3,
   "metadata": {},
   "outputs": [],
   "source": [
    "def noaa_data(begin,end,station,vdatum='NAVD',interval='6',\n",
    "                       form='json',t_zone='GMT',unit='metric',product='water_level'):\n",
    "    api = f'https://tidesandcurrents.noaa.gov/api/datagetter?begin_date={begin}&end_date={end}&station={station}'\\\n",
    "         f'&product={product}&application=NOS.COOPS.TAC.WL&datum={vdatum}&interval={interval}&time_zone={t_zone}&units={unit}&format={form}'\n",
    "    data = requests.get(url=api).content.decode()\n",
    "    return data\n",
    "\n",
    "def nearest(items, pivot):\n",
    "    return min(items, key=lambda x: abs(x - pivot))\n",
    "def point_lookup(model_lat:np.array, model_lon:np.array, satellite_lat:float, satellite_lon:float): \n",
    "    rad_factor = np.pi/180.0\n",
    "    modlatrad = model_lat[:] * rad_factor\n",
    "    modlonrad = model_lon[:] * rad_factor\n",
    "    ny,nx = modlatrad.shape, modlonrad.shape\n",
    "    clat,clon = np.cos(modlatrad),np.cos(modlonrad)\n",
    "    slat,slon = np.sin(modlatrad),np.sin(modlonrad)\n",
    "    triples = list(zip(np.ravel(clat*clon), np.ravel(clat*slon), np.ravel(slat)))\n",
    "    kdt = cKDTree(triples)\n",
    "    #feeding the desired point\n",
    "    satlatrad = satellite_lat * rad_factor\n",
    "    satlonrad = satellite_lon * rad_factor\n",
    "    clat0,clon0 = np.cos(satlatrad),np.cos(satlonrad)\n",
    "    slat0,slon0 = np.sin(satlatrad),np.sin(satlonrad)\n",
    "    dist_sq_min, minindex_1d = kdt.query([clat0*clon0, clat0*slon0, slat0])\n",
    "    iy_min, ix_min = np.unravel_index(minindex_1d, modlatrad.shape), np.unravel_index(minindex_1d, modlonrad.shape)\n",
    "    if iy_min != ix_min:\n",
    "        print('Unmatching indexes! Something is wrong!')\n",
    "    return iy_min #printing the index of nearest point\n",
    "def point_lookup(model_lat:np.array, model_lon:np.array, satellite_lat:np.array, satellite_lon:np.array):\n",
    "    tree = BallTree(np.deg2rad(np.c_[model_lat,model_lon]), metric='haversine')\n",
    "    distances, indices = tree.query(np.deg2rad(np.c_[satellite_lat, satellite_lon]), k = 1)\n",
    "    return distances*6371,indices\n"
   ]
  },
  {
   "cell_type": "code",
   "execution_count": 4,
   "metadata": {},
   "outputs": [],
   "source": [
    "start = pd.to_datetime('1979-01-01 00:00')\n",
    "end = pd.to_datetime('2023-01-01 00:00')"
   ]
  },
  {
   "cell_type": "code",
   "execution_count": 5,
   "metadata": {},
   "outputs": [],
   "source": [
    "root = pl.Path('/Users/tmiesse/work/FHRL/arctic/model/arctic_ocean_coastal_study/40_year_simulation')\n",
    "#tracks = gpd.read_file(root / 'miscellaneous/tracks/merged_tracks.shp')\n",
    "name = '2018_v2'\n",
    "ncfile = nc4.Dataset(root / name / 'outputs' / 'fort.63.nc')\n",
    "dt = pd.date_range(start=pd.to_datetime(ncfile.variables['time'].base_date),freq='0.5h',periods=ncfile.variables['time'].shape[0])# + pd.to_timedelta('2 hour')\n",
    "x,y = ncfile.variables['x'][:],ncfile.variables['y'][:]"
   ]
  },
  {
   "cell_type": "markdown",
   "metadata": {},
   "source": [
    "_____________________________________"
   ]
  },
  {
   "cell_type": "code",
   "execution_count": 6,
   "metadata": {},
   "outputs": [],
   "source": [
    "station = 9497645\n",
    "start,end = dt[0].strftime('%Y%m%d %H:%M'),dt[-1].strftime('%Y%m%d %H:%M')\n",
    "file = json.loads(noaa_data(start,end,station,vdatum='MSL',interval='6',product='predictions'))"
   ]
  },
  {
   "cell_type": "code",
   "execution_count": 10,
   "metadata": {},
   "outputs": [
    {
     "ename": "TypeError",
     "evalue": "only integer scalar arrays can be converted to a scalar index",
     "output_type": "error",
     "traceback": [
      "\u001b[0;31m---------------------------------------------------------------------------\u001b[0m",
      "\u001b[0;31mTypeError\u001b[0m                                 Traceback (most recent call last)",
      "Cell \u001b[0;32mIn[10], line 25\u001b[0m\n\u001b[1;32m     23\u001b[0m obs \u001b[38;5;241m=\u001b[39mnp\u001b[38;5;241m.\u001b[39marray([\u001b[38;5;28mfloat\u001b[39m(file[\u001b[38;5;124m'\u001b[39m\u001b[38;5;124mdata\u001b[39m\u001b[38;5;124m'\u001b[39m][i][\u001b[38;5;124m'\u001b[39m\u001b[38;5;124mv\u001b[39m\u001b[38;5;124m'\u001b[39m]) \u001b[38;5;28;01mfor\u001b[39;00m i \u001b[38;5;129;01min\u001b[39;00m \u001b[38;5;28mrange\u001b[39m(\u001b[38;5;28mlen\u001b[39m(file[\u001b[38;5;124m'\u001b[39m\u001b[38;5;124mdata\u001b[39m\u001b[38;5;124m'\u001b[39m]))])\n\u001b[1;32m     24\u001b[0m surge \u001b[38;5;241m=\u001b[39m obs\u001b[38;5;66;03m# - pred\u001b[39;00m\n\u001b[0;32m---> 25\u001b[0m model \u001b[38;5;241m=\u001b[39m \u001b[43mnp\u001b[49m\u001b[38;5;241;43m.\u001b[39;49m\u001b[43mmean\u001b[49m\u001b[43m(\u001b[49m\u001b[43mncfile\u001b[49m\u001b[38;5;241;43m.\u001b[39;49m\u001b[43mvariables\u001b[49m\u001b[43m[\u001b[49m\u001b[38;5;124;43m'\u001b[39;49m\u001b[38;5;124;43mzeta\u001b[39;49m\u001b[38;5;124;43m'\u001b[39;49m\u001b[43m]\u001b[49m\u001b[43m[\u001b[49m\u001b[43m:\u001b[49m\u001b[43m,\u001b[49m\u001b[43mnode_ids\u001b[49m\u001b[43m[\u001b[49m\u001b[38;5;241;43m0\u001b[39;49m\u001b[43m]\u001b[49m\u001b[43m[\u001b[49m\u001b[38;5;241;43m0\u001b[39;49m\u001b[43m]\u001b[49m\u001b[43m]\u001b[49m\u001b[43m,\u001b[49m\u001b[43mobs\u001b[49m\u001b[43m)\u001b[49m\n\u001b[1;32m     26\u001b[0m ax\u001b[38;5;241m.\u001b[39mplot(dt,model,color\u001b[38;5;241m=\u001b[39mcolors[c],label\u001b[38;5;241m=\u001b[39mnames[c],linewidth\u001b[38;5;241m=\u001b[39m\u001b[38;5;241m1.2\u001b[39m)\n\u001b[1;32m     27\u001b[0m ax\u001b[38;5;241m.\u001b[39mplot(pd\u001b[38;5;241m.\u001b[39mto_datetime([file[\u001b[38;5;124m'\u001b[39m\u001b[38;5;124mdata\u001b[39m\u001b[38;5;124m'\u001b[39m][i][\u001b[38;5;124m'\u001b[39m\u001b[38;5;124mt\u001b[39m\u001b[38;5;124m'\u001b[39m] \u001b[38;5;28;01mfor\u001b[39;00m i \u001b[38;5;129;01min\u001b[39;00m \u001b[38;5;28mrange\u001b[39m(\u001b[38;5;28mlen\u001b[39m(file[\u001b[38;5;124m'\u001b[39m\u001b[38;5;124mdata\u001b[39m\u001b[38;5;124m'\u001b[39m]))]),\n\u001b[1;32m     28\u001b[0m         surge,color\u001b[38;5;241m=\u001b[39m\u001b[38;5;124m'\u001b[39m\u001b[38;5;124m#7094db\u001b[39m\u001b[38;5;124m'\u001b[39m,label\u001b[38;5;241m=\u001b[39m\u001b[38;5;124m'\u001b[39m\u001b[38;5;124mNOAA\u001b[39m\u001b[38;5;124m'\u001b[39m,linewidth\u001b[38;5;241m=\u001b[39m\u001b[38;5;241m0.8\u001b[39m)\n",
      "File \u001b[0;32m~/miniconda3/envs/general/lib/python3.11/site-packages/numpy/core/fromnumeric.py:3502\u001b[0m, in \u001b[0;36mmean\u001b[0;34m(a, axis, dtype, out, keepdims, where)\u001b[0m\n\u001b[1;32m   3500\u001b[0m         \u001b[38;5;28;01mpass\u001b[39;00m\n\u001b[1;32m   3501\u001b[0m     \u001b[38;5;28;01melse\u001b[39;00m:\n\u001b[0;32m-> 3502\u001b[0m         \u001b[38;5;28;01mreturn\u001b[39;00m \u001b[43mmean\u001b[49m\u001b[43m(\u001b[49m\u001b[43maxis\u001b[49m\u001b[38;5;241;43m=\u001b[39;49m\u001b[43maxis\u001b[49m\u001b[43m,\u001b[49m\u001b[43m \u001b[49m\u001b[43mdtype\u001b[49m\u001b[38;5;241;43m=\u001b[39;49m\u001b[43mdtype\u001b[49m\u001b[43m,\u001b[49m\u001b[43m \u001b[49m\u001b[43mout\u001b[49m\u001b[38;5;241;43m=\u001b[39;49m\u001b[43mout\u001b[49m\u001b[43m,\u001b[49m\u001b[43m \u001b[49m\u001b[38;5;241;43m*\u001b[39;49m\u001b[38;5;241;43m*\u001b[39;49m\u001b[43mkwargs\u001b[49m\u001b[43m)\u001b[49m\n\u001b[1;32m   3504\u001b[0m \u001b[38;5;28;01mreturn\u001b[39;00m _methods\u001b[38;5;241m.\u001b[39m_mean(a, axis\u001b[38;5;241m=\u001b[39maxis, dtype\u001b[38;5;241m=\u001b[39mdtype,\n\u001b[1;32m   3505\u001b[0m                       out\u001b[38;5;241m=\u001b[39mout, \u001b[38;5;241m*\u001b[39m\u001b[38;5;241m*\u001b[39mkwargs)\n",
      "File \u001b[0;32m~/miniconda3/envs/general/lib/python3.11/site-packages/numpy/ma/core.py:5334\u001b[0m, in \u001b[0;36mMaskedArray.mean\u001b[0;34m(self, axis, dtype, out, keepdims)\u001b[0m\n\u001b[1;32m   5332\u001b[0m kwargs \u001b[38;5;241m=\u001b[39m {} \u001b[38;5;28;01mif\u001b[39;00m keepdims \u001b[38;5;129;01mis\u001b[39;00m np\u001b[38;5;241m.\u001b[39m_NoValue \u001b[38;5;28;01melse\u001b[39;00m {\u001b[38;5;124m'\u001b[39m\u001b[38;5;124mkeepdims\u001b[39m\u001b[38;5;124m'\u001b[39m: keepdims}\n\u001b[1;32m   5333\u001b[0m \u001b[38;5;28;01mif\u001b[39;00m \u001b[38;5;28mself\u001b[39m\u001b[38;5;241m.\u001b[39m_mask \u001b[38;5;129;01mis\u001b[39;00m nomask:\n\u001b[0;32m-> 5334\u001b[0m     result \u001b[38;5;241m=\u001b[39m \u001b[38;5;28;43msuper\u001b[39;49m\u001b[43m(\u001b[49m\u001b[43m)\u001b[49m\u001b[38;5;241;43m.\u001b[39;49m\u001b[43mmean\u001b[49m\u001b[43m(\u001b[49m\u001b[43maxis\u001b[49m\u001b[38;5;241;43m=\u001b[39;49m\u001b[43maxis\u001b[49m\u001b[43m,\u001b[49m\u001b[43m \u001b[49m\u001b[43mdtype\u001b[49m\u001b[38;5;241;43m=\u001b[39;49m\u001b[43mdtype\u001b[49m\u001b[43m,\u001b[49m\u001b[43m \u001b[49m\u001b[38;5;241;43m*\u001b[39;49m\u001b[38;5;241;43m*\u001b[39;49m\u001b[43mkwargs\u001b[49m\u001b[43m)\u001b[49m[()]\n\u001b[1;32m   5335\u001b[0m \u001b[38;5;28;01melse\u001b[39;00m:\n\u001b[1;32m   5336\u001b[0m     is_float16_result \u001b[38;5;241m=\u001b[39m \u001b[38;5;28;01mFalse\u001b[39;00m\n",
      "File \u001b[0;32m~/miniconda3/envs/general/lib/python3.11/site-packages/numpy/core/_methods.py:106\u001b[0m, in \u001b[0;36m_mean\u001b[0;34m(a, axis, dtype, out, keepdims, where)\u001b[0m\n\u001b[1;32m    102\u001b[0m arr \u001b[38;5;241m=\u001b[39m asanyarray(a)\n\u001b[1;32m    104\u001b[0m is_float16_result \u001b[38;5;241m=\u001b[39m \u001b[38;5;28;01mFalse\u001b[39;00m\n\u001b[0;32m--> 106\u001b[0m rcount \u001b[38;5;241m=\u001b[39m \u001b[43m_count_reduce_items\u001b[49m\u001b[43m(\u001b[49m\u001b[43marr\u001b[49m\u001b[43m,\u001b[49m\u001b[43m \u001b[49m\u001b[43maxis\u001b[49m\u001b[43m,\u001b[49m\u001b[43m \u001b[49m\u001b[43mkeepdims\u001b[49m\u001b[38;5;241;43m=\u001b[39;49m\u001b[43mkeepdims\u001b[49m\u001b[43m,\u001b[49m\u001b[43m \u001b[49m\u001b[43mwhere\u001b[49m\u001b[38;5;241;43m=\u001b[39;49m\u001b[43mwhere\u001b[49m\u001b[43m)\u001b[49m\n\u001b[1;32m    107\u001b[0m \u001b[38;5;28;01mif\u001b[39;00m rcount \u001b[38;5;241m==\u001b[39m \u001b[38;5;241m0\u001b[39m \u001b[38;5;28;01mif\u001b[39;00m where \u001b[38;5;129;01mis\u001b[39;00m \u001b[38;5;28;01mTrue\u001b[39;00m \u001b[38;5;28;01melse\u001b[39;00m umr_any(rcount \u001b[38;5;241m==\u001b[39m \u001b[38;5;241m0\u001b[39m, axis\u001b[38;5;241m=\u001b[39m\u001b[38;5;28;01mNone\u001b[39;00m):\n\u001b[1;32m    108\u001b[0m     warnings\u001b[38;5;241m.\u001b[39mwarn(\u001b[38;5;124m\"\u001b[39m\u001b[38;5;124mMean of empty slice.\u001b[39m\u001b[38;5;124m\"\u001b[39m, \u001b[38;5;167;01mRuntimeWarning\u001b[39;00m, stacklevel\u001b[38;5;241m=\u001b[39m\u001b[38;5;241m2\u001b[39m)\n",
      "File \u001b[0;32m~/miniconda3/envs/general/lib/python3.11/site-packages/numpy/core/_methods.py:77\u001b[0m, in \u001b[0;36m_count_reduce_items\u001b[0;34m(arr, axis, keepdims, where)\u001b[0m\n\u001b[1;32m     75\u001b[0m     items \u001b[38;5;241m=\u001b[39m \u001b[38;5;241m1\u001b[39m\n\u001b[1;32m     76\u001b[0m     \u001b[38;5;28;01mfor\u001b[39;00m ax \u001b[38;5;129;01min\u001b[39;00m axis:\n\u001b[0;32m---> 77\u001b[0m         items \u001b[38;5;241m*\u001b[39m\u001b[38;5;241m=\u001b[39m arr\u001b[38;5;241m.\u001b[39mshape[\u001b[43mmu\u001b[49m\u001b[38;5;241;43m.\u001b[39;49m\u001b[43mnormalize_axis_index\u001b[49m\u001b[43m(\u001b[49m\u001b[43max\u001b[49m\u001b[43m,\u001b[49m\u001b[43m \u001b[49m\u001b[43marr\u001b[49m\u001b[38;5;241;43m.\u001b[39;49m\u001b[43mndim\u001b[49m\u001b[43m)\u001b[49m]\n\u001b[1;32m     78\u001b[0m     items \u001b[38;5;241m=\u001b[39m nt\u001b[38;5;241m.\u001b[39mintp(items)\n\u001b[1;32m     79\u001b[0m \u001b[38;5;28;01melse\u001b[39;00m:\n\u001b[1;32m     80\u001b[0m     \u001b[38;5;66;03m# TODO: Optimize case when `where` is broadcast along a non-reduction\u001b[39;00m\n\u001b[1;32m     81\u001b[0m     \u001b[38;5;66;03m# axis and full sum is more excessive than needed.\u001b[39;00m\n\u001b[1;32m     82\u001b[0m \n\u001b[1;32m     83\u001b[0m     \u001b[38;5;66;03m# guarded to protect circular imports\u001b[39;00m\n",
      "\u001b[0;31mTypeError\u001b[0m: only integer scalar arrays can be converted to a scalar index"
     ]
    },
    {
     "data": {
      "image/png": "[encoded data removed]",
      "text/plain": [
       "<Figure size 1200x500 with 1 Axes>"
      ]
     },
     "metadata": {},
     "output_type": "display_data"
    }
   ],
   "source": [
    "\n",
    "station = 9497645\n",
    "start,end = dt[0].strftime('%Y%m%d %H:%M'),dt[-1].strftime('%Y%m%d %H:%M')\n",
    "file = json.loads(noaa_data(start,end,station,vdatum='MSL',interval='h',product='predictions'))\n",
    "distances,node_ids = point_lookup(y, x,70.354964, -147.923999)\n",
    "# -------------------------------------------------------------------------------------\n",
    "plt.rcParams[\"font.family\"] = \"Times New Roman\"\n",
    "fig = plt.figure(figsize=(12,5))\n",
    "\n",
    "ax = plt.axes([0,0.,0.9,.9])\n",
    "dir = ['outputs']#,'outputs_icecube']\n",
    "names = ['Ice']#, 'Ice']\n",
    "colors = ['#00cc99','#ffcc66','#99cc00']\n",
    "c=0\n",
    "for d in dir:\n",
    "    ncfile = nc4.Dataset(root / name / d / 'fort.63.nc')\n",
    "    dt = pd.date_range(start=pd.to_datetime(ncfile.variables['time'].base_date),freq='1h',periods=ncfile.variables['time'].shape[0])\n",
    "    \n",
    "    c+=1\n",
    "start,end = dt[0].strftime('%Y%m%d %H:%M'),dt[-1].strftime('%Y%m%d %H:%M')\n",
    "#file = json.loads(noaa_data(start,end,station,vdatum='MSL',interval='h',product='predictions'))\n",
    "#pred=np.array([float(file['predictions'][i]['v']) for i in range(len(file['predictions']))])\n",
    "file = json.loads(noaa_data(start,end,station,vdatum='MSL',interval='h',product='hourly_height'))\n",
    "obs =np.array([float(file['data'][i]['v']) for i in range(len(file['data']))])\n",
    "surge = obs# - pred\n",
    "model = np.mean(ncfile.variables['zeta'][:,node_ids[0][0]],obs)\n",
    "ax.plot(dt,model,color=colors[c],label=names[c],linewidth=1.2)\n",
    "ax.plot(pd.to_datetime([file['data'][i]['t'] for i in range(len(file['data']))]),\n",
    "        surge,color='#7094db',label='NOAA',linewidth=0.8)\n",
    "\n",
    "ax.set_ylabel(r'Surge [m at LMSL]',fontsize=14)\n",
    "ax.set_ylim([-1.,1.000001])\n",
    "ax.set_xlim([dt[0],dt[-1]])\n",
    "ax.grid(True)\n",
    "ax.legend(loc='upper right', bbox_to_anchor=(0.6, -.05),ncol=2,frameon=False,fontsize=10)\n",
    "ax.set_title('Prudhoe Bay, AK')\n",
    "ax.xaxis.set_major_locator(plt.MaxNLocator(8))\n",
    "#plt.savefig('/Users/tmiesse/work/FHRL/arctic/model/arctic_ocean_coastal_study/figures/wl_red_v2.png',bbox_inches='tight',pad_inches=0.1, dpi=600, transparent=True)\n",
    "plt.show()"
   ]
  },
  {
   "cell_type": "code",
   "execution_count": 14,
   "metadata": {},
   "outputs": [
    {
     "data": {
      "text/plain": [
       "(6030, 6030)"
      ]
     },
     "execution_count": 14,
     "metadata": {},
     "output_type": "execute_result"
    }
   ],
   "source": [
    "len(ncfile.variables['zeta'][:,node_ids[0][0]]),len(obs)"
   ]
  },
  {
   "cell_type": "code",
   "execution_count": 13,
   "metadata": {},
   "outputs": [
    {
     "ename": "TypeError",
     "evalue": "only integer scalar arrays can be converted to a scalar index",
     "output_type": "error",
     "traceback": [
      "\u001b[0;31m---------------------------------------------------------------------------\u001b[0m",
      "\u001b[0;31mTypeError\u001b[0m                                 Traceback (most recent call last)",
      "Cell \u001b[0;32mIn[13], line 1\u001b[0m\n\u001b[0;32m----> 1\u001b[0m \u001b[43mnp\u001b[49m\u001b[38;5;241;43m.\u001b[39;49m\u001b[43mmean\u001b[49m\u001b[43m(\u001b[49m\u001b[43mncfile\u001b[49m\u001b[38;5;241;43m.\u001b[39;49m\u001b[43mvariables\u001b[49m\u001b[43m[\u001b[49m\u001b[38;5;124;43m'\u001b[39;49m\u001b[38;5;124;43mzeta\u001b[39;49m\u001b[38;5;124;43m'\u001b[39;49m\u001b[43m]\u001b[49m\u001b[43m[\u001b[49m\u001b[43m:\u001b[49m\u001b[43m,\u001b[49m\u001b[43mnode_ids\u001b[49m\u001b[43m[\u001b[49m\u001b[38;5;241;43m0\u001b[39;49m\u001b[43m]\u001b[49m\u001b[43m[\u001b[49m\u001b[38;5;241;43m0\u001b[39;49m\u001b[43m]\u001b[49m\u001b[43m]\u001b[49m\u001b[38;5;241;43m.\u001b[39;49m\u001b[43mdata\u001b[49m\u001b[43m,\u001b[49m\u001b[43mobs\u001b[49m\u001b[43m)\u001b[49m\n",
      "File \u001b[0;32m~/miniconda3/envs/general/lib/python3.11/site-packages/numpy/core/fromnumeric.py:3504\u001b[0m, in \u001b[0;36mmean\u001b[0;34m(a, axis, dtype, out, keepdims, where)\u001b[0m\n\u001b[1;32m   3501\u001b[0m     \u001b[38;5;28;01melse\u001b[39;00m:\n\u001b[1;32m   3502\u001b[0m         \u001b[38;5;28;01mreturn\u001b[39;00m mean(axis\u001b[38;5;241m=\u001b[39maxis, dtype\u001b[38;5;241m=\u001b[39mdtype, out\u001b[38;5;241m=\u001b[39mout, \u001b[38;5;241m*\u001b[39m\u001b[38;5;241m*\u001b[39mkwargs)\n\u001b[0;32m-> 3504\u001b[0m \u001b[38;5;28;01mreturn\u001b[39;00m \u001b[43m_methods\u001b[49m\u001b[38;5;241;43m.\u001b[39;49m\u001b[43m_mean\u001b[49m\u001b[43m(\u001b[49m\u001b[43ma\u001b[49m\u001b[43m,\u001b[49m\u001b[43m \u001b[49m\u001b[43maxis\u001b[49m\u001b[38;5;241;43m=\u001b[39;49m\u001b[43maxis\u001b[49m\u001b[43m,\u001b[49m\u001b[43m \u001b[49m\u001b[43mdtype\u001b[49m\u001b[38;5;241;43m=\u001b[39;49m\u001b[43mdtype\u001b[49m\u001b[43m,\u001b[49m\n\u001b[1;32m   3505\u001b[0m \u001b[43m                      \u001b[49m\u001b[43mout\u001b[49m\u001b[38;5;241;43m=\u001b[39;49m\u001b[43mout\u001b[49m\u001b[43m,\u001b[49m\u001b[43m \u001b[49m\u001b[38;5;241;43m*\u001b[39;49m\u001b[38;5;241;43m*\u001b[39;49m\u001b[43mkwargs\u001b[49m\u001b[43m)\u001b[49m\n",
      "File \u001b[0;32m~/miniconda3/envs/general/lib/python3.11/site-packages/numpy/core/_methods.py:106\u001b[0m, in \u001b[0;36m_mean\u001b[0;34m(a, axis, dtype, out, keepdims, where)\u001b[0m\n\u001b[1;32m    102\u001b[0m arr \u001b[38;5;241m=\u001b[39m asanyarray(a)\n\u001b[1;32m    104\u001b[0m is_float16_result \u001b[38;5;241m=\u001b[39m \u001b[38;5;28;01mFalse\u001b[39;00m\n\u001b[0;32m--> 106\u001b[0m rcount \u001b[38;5;241m=\u001b[39m \u001b[43m_count_reduce_items\u001b[49m\u001b[43m(\u001b[49m\u001b[43marr\u001b[49m\u001b[43m,\u001b[49m\u001b[43m \u001b[49m\u001b[43maxis\u001b[49m\u001b[43m,\u001b[49m\u001b[43m \u001b[49m\u001b[43mkeepdims\u001b[49m\u001b[38;5;241;43m=\u001b[39;49m\u001b[43mkeepdims\u001b[49m\u001b[43m,\u001b[49m\u001b[43m \u001b[49m\u001b[43mwhere\u001b[49m\u001b[38;5;241;43m=\u001b[39;49m\u001b[43mwhere\u001b[49m\u001b[43m)\u001b[49m\n\u001b[1;32m    107\u001b[0m \u001b[38;5;28;01mif\u001b[39;00m rcount \u001b[38;5;241m==\u001b[39m \u001b[38;5;241m0\u001b[39m \u001b[38;5;28;01mif\u001b[39;00m where \u001b[38;5;129;01mis\u001b[39;00m \u001b[38;5;28;01mTrue\u001b[39;00m \u001b[38;5;28;01melse\u001b[39;00m umr_any(rcount \u001b[38;5;241m==\u001b[39m \u001b[38;5;241m0\u001b[39m, axis\u001b[38;5;241m=\u001b[39m\u001b[38;5;28;01mNone\u001b[39;00m):\n\u001b[1;32m    108\u001b[0m     warnings\u001b[38;5;241m.\u001b[39mwarn(\u001b[38;5;124m\"\u001b[39m\u001b[38;5;124mMean of empty slice.\u001b[39m\u001b[38;5;124m\"\u001b[39m, \u001b[38;5;167;01mRuntimeWarning\u001b[39;00m, stacklevel\u001b[38;5;241m=\u001b[39m\u001b[38;5;241m2\u001b[39m)\n",
      "File \u001b[0;32m~/miniconda3/envs/general/lib/python3.11/site-packages/numpy/core/_methods.py:77\u001b[0m, in \u001b[0;36m_count_reduce_items\u001b[0;34m(arr, axis, keepdims, where)\u001b[0m\n\u001b[1;32m     75\u001b[0m     items \u001b[38;5;241m=\u001b[39m \u001b[38;5;241m1\u001b[39m\n\u001b[1;32m     76\u001b[0m     \u001b[38;5;28;01mfor\u001b[39;00m ax \u001b[38;5;129;01min\u001b[39;00m axis:\n\u001b[0;32m---> 77\u001b[0m         items \u001b[38;5;241m*\u001b[39m\u001b[38;5;241m=\u001b[39m arr\u001b[38;5;241m.\u001b[39mshape[\u001b[43mmu\u001b[49m\u001b[38;5;241;43m.\u001b[39;49m\u001b[43mnormalize_axis_index\u001b[49m\u001b[43m(\u001b[49m\u001b[43max\u001b[49m\u001b[43m,\u001b[49m\u001b[43m \u001b[49m\u001b[43marr\u001b[49m\u001b[38;5;241;43m.\u001b[39;49m\u001b[43mndim\u001b[49m\u001b[43m)\u001b[49m]\n\u001b[1;32m     78\u001b[0m     items \u001b[38;5;241m=\u001b[39m nt\u001b[38;5;241m.\u001b[39mintp(items)\n\u001b[1;32m     79\u001b[0m \u001b[38;5;28;01melse\u001b[39;00m:\n\u001b[1;32m     80\u001b[0m     \u001b[38;5;66;03m# TODO: Optimize case when `where` is broadcast along a non-reduction\u001b[39;00m\n\u001b[1;32m     81\u001b[0m     \u001b[38;5;66;03m# axis and full sum is more excessive than needed.\u001b[39;00m\n\u001b[1;32m     82\u001b[0m \n\u001b[1;32m     83\u001b[0m     \u001b[38;5;66;03m# guarded to protect circular imports\u001b[39;00m\n",
      "\u001b[0;31mTypeError\u001b[0m: only integer scalar arrays can be converted to a scalar index"
     ]
    }
   ],
   "source": [
    "np.mean(ncfile.variables['zeta'][:,node_ids[0][0]].data,obs)"
   ]
  },
  {
   "cell_type": "code",
   "execution_count": 10,
   "metadata": {},
   "outputs": [
    {
     "data": {
      "image/png": "[encoded data removed]",
      "text/plain": [
       "<Figure size 800x300 with 1 Axes>"
      ]
     },
     "metadata": {},
     "output_type": "display_data"
    }
   ],
   "source": [
    "station = 9491094\n",
    "start,end = dt[0].strftime('%Y%m%d %H:%M'),dt[-1].strftime('%Y%m%d %H:%M')\n",
    "\n",
    "distances,node_ids = point_lookup(y, x,67.570015, -164.088099)\n",
    "# -------------------------------------------------------------------------------------\n",
    "plt.rcParams[\"font.family\"] = \"Times New Roman\"\n",
    "fig = plt.figure(figsize=(8,3))\n",
    "\n",
    "ax = plt.axes([0,0.,0.9,.9])\n",
    "dir = ['outputs']#,'outputs_icecube']\n",
    "colors = ['#00cc99','#ffcc66','#99cc00']\n",
    "c=0\n",
    "for d in dir:\n",
    "    ncfile = nc4.Dataset(root / name / d / 'fort.63.nc')\n",
    "    dt = pd.date_range(start=pd.to_datetime(ncfile.variables['time'].base_date),freq='1h',periods=ncfile.variables['time'].shape[0])\n",
    "    ax.plot(dt,ncfile.variables['zeta'][:,node_ids[0][0]],color=colors[c],label=d.split('_')[-1],linewidth=0.8)\n",
    "    c+=1\n",
    "file = json.loads(noaa_data(start,end,station,vdatum='MSL',interval='h',product='predictions'))\n",
    "pred=np.array([float(file['predictions'][i]['v']) for i in range(len(file['predictions']))])\n",
    "file = json.loads(noaa_data(start,end,station,vdatum='MSL',interval='h',product='hourly_height'))\n",
    "obs =np.array([float(file['data'][i]['v']) for i in range(len(file['data']))])\n",
    "surge = obs-pred\n",
    "ax.plot(pd.to_datetime([file['data'][i]['t'] for i in range(len(file['data']))]),\n",
    "        surge,color='#7094db',label='NOAA',linewidth=0.8)\n",
    "\n",
    "ax.set_ylabel(r'Surge [m at LMSL]',fontsize=14)\n",
    "ax.set_ylim([-2.,2.000001])\n",
    "ax.set_xlim([dt[0],dt[-1]])\n",
    "ax.grid(True)\n",
    "ax.legend(loc='upper right', bbox_to_anchor=(0.6, -.05),ncol=2,frameon=False,fontsize=10)\n",
    "ax.set_title('Red, AK')\n",
    "ax.xaxis.set_major_locator(plt.MaxNLocator(8))\n",
    "#plt.savefig('/Users/tmiesse/work/FHRL/arctic/model/arctic_ocean_coastal_study/figures/wl_red_v2.png',bbox_inches='tight',pad_inches=0.1, dpi=600, transparent=True)\n",
    "plt.show()"
   ]
  },
  {
   "cell_type": "code",
   "execution_count": 5,
   "metadata": {},
   "outputs": [],
   "source": [
    "pts = gpd.read_file('/Users/tmiesse/work/FHRL/arctic/model/arctic_ocean_coastal_study/flood_events_2023/flood_events_2023.shp')\n",
    "root = pl.Path('/Users/tmiesse/work/FHRL/arctic/model/arctic_ocean_coastal_study/40_year_simulation')\n",
    "tracks = gpd.read_file('/Users/tmiesse/work/FHRL/arctic/model/climate/storm_tracks/era5_tracks_v4.shp')\n",
    "domain = gpd.read_file('/Users/tmiesse/work/FHRL/arctic/gis/418-alaska-coastline-1-250-000/fat_coast.shp')"
   ]
  },
  {
   "cell_type": "code",
   "execution_count": 6,
   "metadata": {},
   "outputs": [],
   "source": [
    "px,py = [geo.x for geo in pts.geometry],[geo.y for geo in pts.geometry]\n",
    "x,y = ncfile.variables['x'][:],ncfile.variables['y'][:]\n",
    "distances,node_ids = point_lookup(y, x, py, px)"
   ]
  },
  {
   "cell_type": "code",
   "execution_count": 7,
   "metadata": {},
   "outputs": [],
   "source": [
    "def find_area(x:np.array,y:np.array,px:float,py:float,step=0.15):\n",
    "    poly = Polygon([(px-step,py-step),(px-step,py+step),(px+step,py+step),(px+step,py-step)])\n",
    "    nodes = np.where(shapely.vectorized.contains(poly, x, y)==True)[0]\n",
    "    return nodes\n"
   ]
  },
  {
   "cell_type": "code",
   "execution_count": 1,
   "metadata": {},
   "outputs": [
    {
     "ename": "NameError",
     "evalue": "name 'plt' is not defined",
     "output_type": "error",
     "traceback": [
      "\u001b[0;31m---------------------------------------------------------------------------\u001b[0m",
      "\u001b[0;31mNameError\u001b[0m                                 Traceback (most recent call last)",
      "Cell \u001b[0;32mIn[1], line 5\u001b[0m\n\u001b[1;32m      2\u001b[0m lon1,lon2 \u001b[38;5;241m=\u001b[39m \u001b[38;5;241m-\u001b[39m\u001b[38;5;241m173\u001b[39m, \u001b[38;5;241m-\u001b[39m\u001b[38;5;241m142\u001b[39m\n\u001b[1;32m      4\u001b[0m \u001b[38;5;66;03m# -------------------------------------------------------------------------------------\u001b[39;00m\n\u001b[0;32m----> 5\u001b[0m \u001b[43mplt\u001b[49m\u001b[38;5;241m.\u001b[39mrcParams[\u001b[38;5;124m\"\u001b[39m\u001b[38;5;124mfont.family\u001b[39m\u001b[38;5;124m\"\u001b[39m] \u001b[38;5;241m=\u001b[39m \u001b[38;5;124m\"\u001b[39m\u001b[38;5;124mTimes New Roman\u001b[39m\u001b[38;5;124m\"\u001b[39m\n\u001b[1;32m      6\u001b[0m \u001b[38;5;66;03m#proj = ccrs.NorthPolarStereo(central_longitude=-145)\u001b[39;00m\n\u001b[1;32m      7\u001b[0m proj \u001b[38;5;241m=\u001b[39m ccrs\u001b[38;5;241m.\u001b[39mPlateCarree()\n",
      "\u001b[0;31mNameError\u001b[0m: name 'plt' is not defined"
     ]
    }
   ],
   "source": [
    "lat1,lat2 = 58,74\n",
    "lon1,lon2 = -173, -142\n",
    "\n",
    "# -------------------------------------------------------------------------------------\n",
    "plt.rcParams[\"font.family\"] = \"Times New Roman\"\n",
    "#proj = ccrs.NorthPolarStereo(central_longitude=-145)\n",
    "proj = ccrs.PlateCarree()\n",
    "fig,axs = plt.subplots(\n",
    "    1, 1, figsize=(7, 7), sharex=True, sharey=True,\n",
    "    subplot_kw={'projection': proj, \"aspect\": 2},\n",
    "    gridspec_kw = {'wspace':0.25, 'hspace':0.007},)\n",
    "nodes = np.where(shapely.vectorized.contains(domain.geometry[0], x, y)==True)[0]\n",
    "nodes2=[]\n",
    "zeta = ncfile.variables['zeta'][:]\n",
    "for n in nodes:\n",
    "    if (y[n]<62) and (x[n]>-156):\n",
    "        pass\n",
    "    else:\n",
    "        nodes2.append(n)\n",
    "\n",
    "for p in pts.index:\n",
    "    py,px = pts.geometry[p].y, pts.geometry[p].x\n",
    "    if (py<62) and (px>-155):\n",
    "        pass\n",
    "    else:\n",
    "        if (pts['flood_impa'][p]=='major') or (pts['flood_impa'][p]=='Major')\\\n",
    "             or (pts['flood_impa'][p]=='moderate'):\n",
    "            color = '#00FFFFFF'\n",
    "            nodes = find_area(x,y,px,py,step=0.1)\n",
    "            if (pts['flood_impa'][p]=='major') or (pts['flood_impa'][p]=='Major'):\n",
    "                #if np.max(zeta[:,nodes])>pts['height_m_n'][p]:\n",
    "                color = '#ff4d4d'\n",
    "            elif (pts['flood_impa'][p]=='moderate'):\n",
    "                #if np.max(zeta[:,nodes])>pts['height_m_n'][p]:\n",
    "                color = '#339966'\n",
    "            nodes3=[]\n",
    "            for n in nodes:\n",
    "                if n in nodes2:\n",
    "                    nodes3.append(n)\n",
    "\n",
    "            m=axs.scatter(x[nodes3],y[nodes3],transform=ccrs.PlateCarree(),c=color,marker='.',s=50)#,edgecolors='k')\n",
    "\n",
    "axs.set_extent([lon1, lon2, lat1, lat2], crs=ccrs.PlateCarree())\n",
    "#axs.coastlines(resolution='10m',linewidth=0.5)\n",
    "axs.add_feature(cart.feature.LAKES)\n",
    "axs.add_feature(cart.feature.BORDERS.with_scale(\"50m\"),linestyle=\"-\")\n",
    "gl = axs.gridlines(xlocs=np.arange(-190,-100,10),ylocs=np.arange(-90,90,8),\n",
    "                         draw_labels=True,linewidth=0.3, color=\"black\", alpha=0.5,\n",
    "                         y_inline=False,linestyle=\"--\",zorder=20)\n",
    "gl.xlabels_top = False\n",
    "gl.xlabels_bottom = True\n",
    "gl.xlabel_style = {'rotation': 0}\n",
    "gl.ylabels_left = False\n",
    "gl.ylabels_right= True\n",
    "gl.ylabel_style = {'rotation': -90}\n",
    "gl.ypadding = 1.25\n",
    "gl.xformatter = cart.mpl.gridliner.LONGITUDE_FORMATTER\n",
    "gl.xpadding = 8\n",
    "url = 'https://server.arcgisonline.com/arcgis/rest/services/World_Topo_Map/MapServer/tile/{z}/{y}/{x}.jpg'\n",
    "request = cimgt.GoogleTiles(url=url)#style='street')\n",
    "\n",
    "axs.add_image(request, 7,interpolation='bicubic')#,regrid_shape=3000)\n",
    "#axs.legend((m,m2),('Major','Moderate'),loc='lower right', bbox_to_anchor=(.7, -.2),ncol=2,frameon=False,fontsize=10)\n",
    "axs.set_title('Flood Impacts',fontsize=14)\n",
    "plt.show()\n"
   ]
  },
  {
   "cell_type": "code",
   "execution_count": 39,
   "metadata": {},
   "outputs": [
    {
     "data": {
      "text/plain": [
       "array([], dtype=int64)"
      ]
     },
     "execution_count": 39,
     "metadata": {},
     "output_type": "execute_result"
    }
   ],
   "source": [
    "nodes"
   ]
  },
  {
   "cell_type": "code",
   "execution_count": null,
   "metadata": {},
   "outputs": [],
   "source": [
    "vd = vdg(ncfile.variables['zeta'][10,nodes], domain)"
   ]
  },
  {
   "cell_type": "code",
   "execution_count": 28,
   "metadata": {},
   "outputs": [
    {
     "data": {
      "text/plain": [
       "array([62175])"
      ]
     },
     "execution_count": 28,
     "metadata": {},
     "output_type": "execute_result"
    }
   ],
   "source": [
    "nodes3[0]"
   ]
  },
  {
   "cell_type": "code",
   "execution_count": null,
   "metadata": {},
   "outputs": [],
   "source": [
    "\n",
    "lat1,lat2 = 58,74\n",
    "lon1,lon2 = -173, -142\n",
    "\n",
    "# -------------------------------------------------------------------------------------\n",
    "plt.rcParams[\"font.family\"] = \"Times New Roman\"\n",
    "#proj = ccrs.NorthPolarStereo(central_longitude=-145)\n",
    "proj = ccrs.PlateCarree()\n",
    "fig,axs = plt.subplots(\n",
    "    1, 1, figsize=(7, 7), sharex=True, sharey=True,\n",
    "    subplot_kw={'projection': proj, \"aspect\": 2},\n",
    "    gridspec_kw = {'wspace':0.25, 'hspace':0.007},)\n",
    "pts2 = pts.loc[(pts['flood_impa']=='Major')]\n",
    "for f in pts2.index:\n",
    "    if ('Surge' in pts2['event_type'][f]) & (pd.to_datetime(pts2['date'][f]).year>=2000):\n",
    "        for t in tracks.index:\n",
    "            geo = tracks['geometry'][t]\n",
    "            xp,yp = geo.xy\n",
    "            start,end = pd.to_datetime(tracks['start'][t]),pd.to_datetime(tracks['end'][t])\n",
    "            if (start<=pd.to_datetime(pts2['date'][f])) & (pd.to_datetime(pts2['date'][f])<end):\n",
    "                axs.plot(xp,yp,transform = ccrs.PlateCarree(),color='#000000',linewidth=1.5)\n",
    "\n",
    "        m=axs.scatter(pts2['geometry'][f].x,pts2['geometry'][f].y,transform=ccrs.PlateCarree(),c='#DC3220',marker='.',s=100,edgecolors='#595959')\n",
    "\n",
    "pts2 = pts.loc[(pts['flood_impa']=='major')]\n",
    "for f in pts2.index:\n",
    "    if ('Surge' in pts2['event_type'][f]) & (pd.to_datetime(pts2['date'][f]).year>=2000):\n",
    "        for t in tracks.index:\n",
    "            geo = tracks['geometry'][t]\n",
    "            xp,yp = geo.xy\n",
    "            start,end = pd.to_datetime(tracks['start'][t]),pd.to_datetime(tracks['end'][t])\n",
    "            if (start<=pd.to_datetime(pts2['date'][f])) & (pd.to_datetime(pts2['date'][f])<end):\n",
    "\n",
    "                axs.plot(xp,yp,transform = ccrs.PlateCarree(),color='#000000',linewidth=1.5)\n",
    "        m=axs.scatter(pts2['geometry'][f].x,pts2['geometry'][f].y,transform=ccrs.PlateCarree(),c='#DC3220',marker='.',s=100,edgecolors='#595959')      \n",
    "pts2 = pts.loc[(pts['flood_impa']=='moderate')]\n",
    "for f in pts2.index:\n",
    "    if ('Surge' in pts2['event_type'][f]) & (pd.to_datetime(pts2['date'][f]).year>=2000):\n",
    "        for t in tracks.index:\n",
    "            geo = tracks['geometry'][t]\n",
    "            xp,yp = geo.xy\n",
    "            start,end = pd.to_datetime(tracks['start'][t]),pd.to_datetime(tracks['end'][t])\n",
    "            if (start<=pd.to_datetime(pts2['date'][f])) & (pd.to_datetime(pts2['date'][f])<end):\n",
    "                axs.plot(xp,yp,transform = ccrs.PlateCarree(),color='#000000',linewidth=1.5)\n",
    "        m2=axs.scatter(pts2['geometry'][f].x*1.001,pts2['geometry'][f].y,transform=ccrs.PlateCarree(),c='#1F6879',marker='x',s=55,edgecolors='#595959')   \n",
    "#m = axs.plot(xp,yp,transform = ccrs.PlateCarree(),color='#000000',linewidth=2.5)\n",
    "axs.set_extent([lon1, lon2, lat1, lat2], crs=ccrs.PlateCarree())\n",
    "#axs.coastlines(resolution='10m',linewidth=0.5)\n",
    "axs.add_feature(cart.feature.LAKES)\n",
    "axs.add_feature(cart.feature.BORDERS.with_scale(\"50m\"),linestyle=\"-\")\n",
    "gl = axs.gridlines(xlocs=np.arange(-190,-100,10),ylocs=np.arange(-90,90,8),\n",
    "                         draw_labels=True,linewidth=0.3, color=\"black\", alpha=0.5,\n",
    "                         y_inline=False,linestyle=\"--\",zorder=20)\n",
    "gl.xlabels_top = False\n",
    "gl.xlabels_bottom = True\n",
    "gl.xlabel_style = {'rotation': 0}\n",
    "gl.ylabels_left = False\n",
    "gl.ylabels_right= True\n",
    "gl.ylabel_style = {'rotation': -90}\n",
    "gl.ypadding = 1.25\n",
    "gl.xformatter = cart.mpl.gridliner.LONGITUDE_FORMATTER\n",
    "gl.xpadding = 8\n",
    "url = 'https://server.arcgisonline.com/arcgis/rest/services/World_Topo_Map/MapServer/tile/{z}/{y}/{x}.jpg'\n",
    "request = cimgt.GoogleTiles(url=url)#style='street')\n",
    "\n",
    "axs.add_image(request, 7,interpolation='bicubic')#,regrid_shape=3000)\n",
    "axs.legend((m,m2),('Major','Moderate'),loc='lower right', bbox_to_anchor=(.7, -.2),ncol=2,frameon=False,fontsize=10)\n",
    "axs.set_title('Communities that had Moderate to Major Flooding after 2000',fontsize=14)\n",
    "plt.savefig('/Users/tmiesse/work/FHRL/arctic/model/arctic_ocean_coastal_study/figures/flood_stages_after2000.png',bbox_inches='tight',pad_inches=0.1, dpi=600, transparent=True)\n",
    "plt.show()"
   ]
  },
  {
   "cell_type": "code",
   "execution_count": null,
   "metadata": {},
   "outputs": [],
   "source": []
  },
  {
   "cell_type": "code",
   "execution_count": null,
   "metadata": {},
   "outputs": [],
   "source": []
  },
  {
   "cell_type": "code",
   "execution_count": null,
   "metadata": {},
   "outputs": [],
   "source": []
  },
  {
   "cell_type": "code",
   "execution_count": null,
   "metadata": {},
   "outputs": [],
   "source": []
  },
  {
   "cell_type": "code",
   "execution_count": null,
   "metadata": {},
   "outputs": [],
   "source": []
  },
  {
   "cell_type": "code",
   "execution_count": null,
   "metadata": {},
   "outputs": [],
   "source": [
    "\n",
    "stations = [9497645,9491094,9468756,9468333]\n",
    "name = '2019_oct_dec'\n",
    "for s in stations:\n",
    "    start,end = dt[0].strftime('%Y%m%d %H:%M'),dt[-1].strftime('%Y%m%d %H:%M')\n",
    "    file = json.loads(noaa_data(start,end,s,vdatum='MSL',interval='h',product='hourly_height'))\n",
    "    distances,node_ids = point_lookup(y, x,float(file['metadata']['lat']), float(file['metadata']['lon']))\n",
    "    # -------------------------------------------------------------------------------------\n",
    "    plt.rcParams[\"font.family\"] = \"Times New Roman\"\n",
    "    fig = plt.figure(figsize=(8,3))\n",
    "    stat_name = file['metadata']['name']\n",
    "    ax = plt.axes([0,0.,0.9,.9])\n",
    "    dir = ['outputs_garratt','outputs_icecube']\n",
    "    colors = ['#00cc99','#ffcc66','#99cc00']\n",
    "    labels = ['No Ice', 'Ice']\n",
    "    c=0\n",
    "    for d in dir:\n",
    "        ncfile = nc4.Dataset(root / name / d / 'fort.63.nc')\n",
    "        dt = pd.date_range(start=pd.to_datetime(ncfile.variables['time'].base_date),freq='1h',periods=ncfile.variables['time'].shape[0])\n",
    "        ax.plot(dt,ncfile.variables['zeta'][:,node_ids[0][0]],color=colors[c],label=labels[c],linewidth=1.2)\n",
    "        c+=1\n",
    "\n",
    "    file = json.loads(noaa_data(start,end,s,vdatum='MSL',interval='h',product='predictions'))\n",
    "    pred=np.array([float(file['predictions'][i]['v']) for i in range(len(file['predictions']))])\n",
    "    file = json.loads(noaa_data(start,end,s,vdatum='MSL',interval='h',product='hourly_height'))\n",
    "    obs =np.array([float(file['data'][i]['v']) for i in range(len(file['data']))])\n",
    "    surge = obs - pred\n",
    "    ax.plot(pd.to_datetime([file['data'][i]['t'] for i in range(len(file['data']))]),\n",
    "            surge,color='#7094db',label='NOAA',linewidth=0.8)\n",
    "\n",
    "    ax.set_ylabel(r'Surge [m at LMSL]',fontsize=14)\n",
    "    ax.set_ylim([-2.,2.000001])\n",
    "    ax.set_xlim([dt[0],dt[-1]])\n",
    "    ax.grid(True)\n",
    "    ax.legend(loc='upper right', bbox_to_anchor=(0.6, -.05),ncol=2,frameon=False,fontsize=10)\n",
    "    ax.set_title(stat_name)\n",
    "    ax.xaxis.set_major_locator(plt.MaxNLocator(8))\n",
    "    plt.savefig(f'/Users/tmiesse/work/FHRL/arctic/model/arctic_ocean_coastal_study/figures/surge_{stat_name}_v2.png',bbox_inches='tight',pad_inches=0.1, dpi=600, transparent=True)\n",
    "    plt.show()"
   ]
  },
  {
   "cell_type": "code",
   "execution_count": null,
   "metadata": {},
   "outputs": [],
   "source": [
    "file = json.loads(noaa_data(start,end,station,vdatum='MSL',interval='h',product='hourly_height'))"
   ]
  },
  {
   "cell_type": "code",
   "execution_count": null,
   "metadata": {},
   "outputs": [],
   "source": []
  },
  {
   "cell_type": "code",
   "execution_count": null,
   "metadata": {},
   "outputs": [],
   "source": [
    "def fmt(x):\n",
    "    s = f\"{x:.1f}\"\n",
    "    s = f\"{x:.0f}\"\n",
    "    return rf\"{s} \\%\" if plt.rcParams[\"text.usetex\"] else f\"{s} %\"\n",
    "def omitcontours(cf):\n",
    "    for level in cf.collections:\n",
    "        for kp,path in reversed(list(enumerate(level.get_paths()))):\n",
    "            # go in reversed order due to deletions!\n",
    "            # include test for \"smallness\" of your choice here:\n",
    "            # I'm using a simple estimation for the diameter based on the\n",
    "            #    x and y diameter...\n",
    "            verts = path.vertices # (N,2)-shape array of contour line coordinates\n",
    "            diameter = np.max(verts.max(axis=0) - verts.min(axis=0))\n",
    "            if diameter<2: # threshold to be refined for your actual dimensions!\n",
    "                del(level.get_paths()[kp])  # no remove() for Path objects:(\n",
    "    return"
   ]
  },
  {
   "cell_type": "code",
   "execution_count": null,
   "metadata": {},
   "outputs": [],
   "source": [
    "# map boundary ------------------------------------------------------------------------\n",
    "lat1,lat2 = 62,76\n",
    "lon1,lon2 = -180, -135\n",
    "start = '20191001 00:00'\n",
    "# -------------------------------------------------------------------------------------\n",
    "plt.rcParams[\"font.family\"] = \"Times New Roman\"\n",
    "wl = []\n",
    "oceans = {'Chukchi Sea':{'x':-174.6,'y':69},'Beaufort Sea':{'x':-153,'y':72.7},'Arctic Ocean':{'x':-165,'y':76}}\n",
    "proj = ccrs.NorthPolarStereo(central_longitude=-145)\n",
    "begin,hours=0,len(dt)\n",
    "cmap = cmocean.cm.deep_r\n",
    "root = pl.Path('/Users/tmiesse/work/FHRL/arctic/model/arctic_ocean_coastal_study/40_year_simulation/2019_oct_dec')\n",
    "for i in np.arange(begin,hours,12):\n",
    "    file_number = '%05d'%i\n",
    "    fig = plt.figure(figsize=(10,9))    \n",
    "    ax = plt.axes([0,0.,.95,.95],projection=proj)\n",
    "    triang = tri.Triangulation(x,y, triangles=ncfile.variables['element'][:,:]-1)\n",
    "    levels = np.arange(0,5,0.25)\n",
    "    count=0\n",
    "    ncfile = nc4.Dataset(root / 'outputs' /'swan_HS.63.nc')\n",
    "    Z = ncfile['swan_HS'][i,:]\n",
    "    if Z.mask.any():\n",
    "        point_mask_indices = np.where(Z.mask)\n",
    "        tri_mask = np.any(np.in1d(ncfile.variables['element'][:,:]-1 , point_mask_indices).reshape(-1, 3), axis=1)\n",
    "        triang.set_mask(tri_mask)\n",
    "    levels = np.arange(0,5,0.25)\n",
    "    cf = ax.tricontourf(triang, Z,transform = ccrs.PlateCarree(),levels=levels, extend = 'max',cmap = cmap)\n",
    "    levels = np.arange(0,100,25)\n",
    "    ncfile = nc4.Dataset(root  / 'outputs' /'fort.93.nc')\n",
    "    Z = ncfile['iceaf'][i,:]*100\n",
    "    cf1 = ax.tricontour(triang, Z,transform = ccrs.PlateCarree(),levels=levels, extend = 'max',colors = 'w', linewidths = 0.5)\n",
    "    omitcontours(cf1)\n",
    "    ax.clabel(cf1, inline=True, fontsize=8,fmt=fmt)\n",
    "    ax.set_extent([lon1, lon2, lat1, lat2], crs=ccrs.PlateCarree())\n",
    "    count+=1\n",
    "    #cb = plt.colorbar(cf,cmap=cmap,fraction=0.025,pad=0.04) \n",
    "    #ax[count].clabel(cf, inline=True, fontsize=8,fmt=fmt)\n",
    "    cbar_ax = fig.add_axes([1.,0.0198,0.025,0.935])\n",
    "    cbar = fig.colorbar(cf,cax = cbar_ax, ticks=levels,orientation='vertical')\n",
    "    cbar.set_label(label = r'$H_{S}$ [m]',fontsize =14)\n",
    "    #cbar.ax.set_yticklabels(np.round(levels,2).astype(str))\n",
    "    ax.coastlines(resolution='10m',linewidth=0.5)\n",
    "    ax.add_feature(cart.feature.RIVERS,linestyle=\"-\")\n",
    "    ax.add_feature(cart.feature.BORDERS.with_scale(\"50m\"),linestyle=\"-\")\n",
    "    for o in oceans.keys():\n",
    "        ax.text(oceans[o]['x'],oceans[o]['y'],o,\n",
    "                        transform = ccrs.PlateCarree(),color='#808080', fontsize=7)#,                \n",
    "    gl = ax.gridlines(xlocs=np.arange(-190,-100,12.5),ylocs=np.arange(-90,90,3.5),\n",
    "                                draw_labels=True,linewidth=0.3, color=\"black\", alpha=0.5,\n",
    "                                y_inline=False,linestyle=\"--\",zorder=20)\n",
    "\n",
    "    gl.xlabels_top = False\n",
    "    gl.xlabels_bottom = True\n",
    "    gl.xlabel_style = {'rotation': 0}\n",
    "    gl.ylabels_left = False\n",
    "    gl.ylabels_right= True\n",
    "    gl.ylabel_style = {'rotation': -90}\n",
    "    gl.ypadding = 1.25\n",
    "    gl.xformatter = cart.mpl.gridliner.LONGITUDE_FORMATTER\n",
    "    gl.xpadding = 8\n",
    "    ax.stock_img()\n",
    "    plt.savefig('/Users/tmiesse/work/FHRL/arctic/model/arctic_ocean_coastal_study/40_year_simulation/2019_oct_dec/outputs/WL{}.png'.format(file_number),bbox_inches='tight',pad_inches=0.1, dpi=600, transparent=True)\n",
    "    plt.close()\n",
    "\n",
    "\n",
    "\n",
    "path = pl.Path('/Users/tmiesse/work/FHRL/arctic/model/arctic_ocean_coastal_study/40_year_simulation/2019_oct_dec/outputs')\n",
    "wl = list(path.glob('WL*'))\n",
    "wl.sort()    \n",
    "writer = imageio.get_writer('/Users/tmiesse/work/FHRL/arctic/model/arctic_ocean_coastal_study/40_year_simulation/2019_oct_dec/outputs/waves.mp4', format='FFMPEG',fps=10)\n",
    "for im in wl:\n",
    "    writer.append_data(imageio.imread(im))\n",
    "writer.close()\n"
   ]
  },
  {
   "cell_type": "code",
   "execution_count": null,
   "metadata": {},
   "outputs": [],
   "source": []
  },
  {
   "cell_type": "code",
   "execution_count": null,
   "metadata": {},
   "outputs": [],
   "source": []
  },
  {
   "cell_type": "code",
   "execution_count": null,
   "metadata": {},
   "outputs": [],
   "source": []
  },
  {
   "cell_type": "code",
   "execution_count": null,
   "metadata": {},
   "outputs": [],
   "source": []
  },
  {
   "cell_type": "code",
   "execution_count": null,
   "metadata": {},
   "outputs": [],
   "source": []
  },
  {
   "cell_type": "code",
   "execution_count": null,
   "metadata": {},
   "outputs": [],
   "source": []
  },
  {
   "cell_type": "code",
   "execution_count": null,
   "metadata": {},
   "outputs": [],
   "source": [
    "ncfile = nc4.Dataset(root / name / 'outputs' / 'fort.73.nc')\n",
    "dt = pd.date_range(start=pd.to_datetime(ncfile.variables['time'].base_date),freq='1h',periods=ncfile.variables['time'].shape[0])# + pd.to_timedelta('2 hour')\n",
    "x,y = ncfile.variables['x'][:],ncfile.variables['y'][:]"
   ]
  },
  {
   "cell_type": "code",
   "execution_count": null,
   "metadata": {},
   "outputs": [],
   "source": [
    "station = 9491094\n",
    "start,end = dt[0].strftime('%Y%m%d %H:%M'),dt[-1].strftime('%Y%m%d %H:%M')\n",
    "file = json.loads(noaa_data(start,end,station,vdatum='MSL',interval='h',product='air_pressure'))"
   ]
  },
  {
   "cell_type": "code",
   "execution_count": null,
   "metadata": {},
   "outputs": [],
   "source": [
    "\n",
    "distances,node_ids = point_lookup(y, x,float(file['metadata']['lat']),float(file['metadata']['lon']))\n",
    "# -------------------------------------------------------------------------------------\n",
    "plt.rcParams[\"font.family\"] = \"Times New Roman\"\n",
    "fig = plt.figure(figsize=(8,3))\n",
    "\n",
    "ax = plt.axes([0,0.,0.9,.9])\n",
    "ax.plot(dt,ncfile.variables['pressure'][:,node_ids[0][0]],color='#00cc66',label='Model')#*0.9714357692052295\n",
    "\n",
    "ax.plot(pd.to_datetime([file['data'][i]['t'] if file['data'][i]['v']!='' else np.nan for i in range(len(file['data']))]),\n",
    "        [float(file['data'][i]['v'])/100. if file['data'][i]['v']!='' else np.nan for i in range(len(file['data']))],color='#7094db',label='NOAA')\n",
    "\n",
    "ax.set_ylabel(r'Pressure [kPa]',fontsize=14)\n",
    "ax.set_ylim([9.0,11.000001])\n",
    "ax.set_xlim([dt[100],dt[-1]])\n",
    "ax.grid(True)\n",
    "ax.legend(loc='upper right', bbox_to_anchor=(0.6, -.05),ncol=2,frameon=False,fontsize=10)\n",
    "ax.set_title('St, AK')\n",
    "#plt.savefig('/Users/tmiesse/work/FHRL/arctic/model/arctic_ocean_coastal_study/figures/pressure_stpaul.png',bbox_inches='tight',pad_inches=0.1, dpi=600, transparent=True)\n",
    "plt.show()"
   ]
  },
  {
   "cell_type": "code",
   "execution_count": null,
   "metadata": {},
   "outputs": [],
   "source": [
    "noaa_data = [float(file['data'][i]['v'])/100. if file['data'][i]['v']!='' else np.nan for i in range(len(file['data']))]\n",
    "modeldata = ncfile.variables['pressure'][:,node_ids[0][0]]\n",
    "diff = np.abs(noaa_data-modeldata)/((noaa_data+modeldata)/2.)"
   ]
  },
  {
   "cell_type": "code",
   "execution_count": null,
   "metadata": {},
   "outputs": [],
   "source": [
    "100-np.mean(diff*100)"
   ]
  },
  {
   "cell_type": "code",
   "execution_count": null,
   "metadata": {},
   "outputs": [],
   "source": []
  },
  {
   "cell_type": "code",
   "execution_count": null,
   "metadata": {},
   "outputs": [],
   "source": [
    "ncfile = nc4.Dataset(root / name / 'outputs2' / 'fort.74.nc')\n",
    "dt = pd.date_range(start=pd.to_datetime(ncfile.variables['time'].base_date),freq='1h',periods=ncfile.variables['time'].shape[0]) + pd.to_timedelta('1 hour')"
   ]
  },
  {
   "cell_type": "code",
   "execution_count": null,
   "metadata": {},
   "outputs": [],
   "source": [
    "station = 9497645\n",
    "start,end = dt[10].strftime('%Y%m%d %H:%M'),dt[-1].strftime('%Y%m%d %H:%M')\n",
    "file = json.loads(noaa_data(start,end,station,vdatum='MSL',interval='h',product='wind'))"
   ]
  },
  {
   "cell_type": "code",
   "execution_count": null,
   "metadata": {},
   "outputs": [],
   "source": [
    "\n",
    "distances,node_ids = point_lookup(y, x,float(file['metadata']['lat']),float(file['metadata']['lon']))\n",
    "# -------------------------------------------------------------------------------------\n",
    "plt.rcParams[\"font.family\"] = \"Times New Roman\"\n",
    "fig = plt.figure(figsize=(8,3))\n",
    "\n",
    "ax = plt.axes([0,0.,0.9,.9])\n",
    "mag = np.sqrt(np.square(ncfile.variables['windx'][:,node_ids[0][0]])+np.square(ncfile.variables['windy'][:,node_ids[0][0]]))\n",
    "ax.plot(dt,mag,color='#00cc66',label='Model',linewidth=0.8)\n",
    "\n",
    "ax.plot(pd.to_datetime([file['data'][i]['t'] if file['data'][i]['s']!='' else np.nan for i in range(len(file['data']))]),\n",
    "        [float(file['data'][i]['s']) if file['data'][i]['s']!='' else np.nan for i in range(len(file['data']))],color='#7094db',label='NOAA',linewidth=0.8)\n",
    "\n",
    "ax.set_ylabel(r'Wind [m/s]',fontsize=14)\n",
    "ax.set_ylim([0.0,35.000001])\n",
    "ax.set_xlim([dt[4500],dt[-1]])\n",
    "ax.grid(True)\n",
    "ax.legend(loc='upper right', bbox_to_anchor=(0.6, -.05),ncol=2,frameon=False,fontsize=10)\n",
    "ax.set_title('Prudhoe Bay, AK')\n",
    "plt.savefig('/Users/tmiesse/work/FHRL/arctic/model/arctic_ocean_coastal_study/figures/wind_prudhoe.png',bbox_inches='tight',pad_inches=0.1, dpi=600, transparent=True)\n",
    "plt.show()"
   ]
  },
  {
   "cell_type": "code",
   "execution_count": null,
   "metadata": {},
   "outputs": [],
   "source": []
  },
  {
   "cell_type": "code",
   "execution_count": null,
   "metadata": {},
   "outputs": [],
   "source": [
    "pts = gpd.read_file('/Users/tmiesse/work/FHRL/arctic/gis/Coastal_Communities/Coastal_Communities2.shp')\n",
    "pts = pts.sort_values('ID')\n",
    "px,py = [geo.x for geo in pts.geometry],[geo.y for geo in pts.geometry]\n",
    "plt.rcParams[\"font.family\"] = \"Times New Roman\"\n",
    "fig = plt.figure(figsize=(8,3))\n",
    "ax = plt.axes([0,0,1.,1.])\n",
    "count = 1\n",
    "directories = list(root.glob('ERA*'))\n",
    "\n",
    "for d in directories[:]:\n",
    "    if (d / 'outputs').exists():\n",
    "        ncfile = nc4.Dataset(d / 'outputs' /'swan_HS.63.nc')\n",
    "        x,y = ncfile.variables['x'][:],ncfile.variables['y'][:]\n",
    "        distances,node_ids = point_lookup(y, x, py, px)\n",
    "        Z = np.array([np.max(ncfile['swan_HS'][1:,node].data) for node in node_ids[:,0]])\n",
    "        Z[Z<0]=0.01\n",
    "        idx = tracks['Cyclone'][tracks['Cyclone'].str.contains(d.name)].index\n",
    "        name = tracks['Month'][idx].values + ' ' + tracks['Type'][idx].values\n",
    "        if 'ET' in tracks['Type'][idx].values:\n",
    "            color = mpl.cm.Blues([count/5])\n",
    "        elif 'AP' in tracks['Type'][idx].values:\n",
    "            color = mpl.cm.Oranges([count/25])\n",
    "        if ('June' in tracks['Month'][idx].values) or ('July' in tracks['Month'][idx].values) or\\\n",
    "        ('August' in tracks['Month'][idx].values):\n",
    "            symbol = '+-'\n",
    "        elif ('September' in tracks['Month'][idx].values) or ('October' in tracks['Month'][idx].values) or\\\n",
    "        ('November' in tracks['Month'][idx].values):\n",
    "            symbol = '*-'\n",
    "        elif ('December' in tracks['Month'][idx].values) or ('January' in tracks['Month'][idx].values) or\\\n",
    "        ('February' in tracks['Month'][idx].values):\n",
    "            symbol = 's-'\n",
    "        elif ('March' in tracks['Month'][idx].values) or ('April' in tracks['Month'][idx].values) or\\\n",
    "        ('May' in tracks['Month'][idx].values):\n",
    "            symbol = 'd-'\n",
    "        ax.plot(pts['CommunityN'].values,Z,symbol,color=color,linewidth=0.75,markersize=3,label=name[0])\n",
    "        count+=1\n",
    "    else:\n",
    "        pass\n",
    "\n",
    "ax.set_ylabel(r'$H_{S}$ [m]',fontsize=14)\n",
    "ax.set_ylim([0,7.00001]),ax.set_xlim([0,len(pts)])\n",
    "ax.xaxis.set_major_locator(plt.MaxNLocator(len(pts)))\n",
    "ax.set_xmargin(10.25)\n",
    "ax.set_xticklabels(pts['CommunityN'].values,rotation=90)\n",
    "ax.grid(True)\n",
    "ax.legend(loc='upper right', bbox_to_anchor=(1.25, 1.05),ncol=1,frameon=False,fontsize=10)\n",
    "plt.savefig('/Users/tmiesse/work/FHRL/arctic/model/arctic_ocean_coastal_study/figures/ak_coast_hs5.png',bbox_inches='tight',pad_inches=0.1, dpi=600, transparent=True)\n",
    "plt.show()"
   ]
  },
  {
   "cell_type": "code",
   "execution_count": null,
   "metadata": {},
   "outputs": [],
   "source": [
    "pts = gpd.read_file('/Users/tmiesse/work/FHRL/arctic/gis/Coastal_Communities/Coastal_Communities2.shp')\n",
    "pts = pts.sort_values('ID')\n",
    "px,py = [geo.x for geo in pts.geometry],[geo.y for geo in pts.geometry]\n",
    "plt.rcParams[\"font.family\"] = \"Times New Roman\"\n",
    "proj = ccrs.NorthPolarStereo(central_longitude=-145)\n",
    "fig,axs = plt.subplots(\n",
    "    2, 2, figsize=(4, 6), sharex=True, sharey=True,\n",
    "    subplot_kw={\"adjustable\":\"box\", \"aspect\": 2},\n",
    "    gridspec_kw = {'wspace':0.075, 'hspace':0.1},)\n",
    "\n",
    "count = 1\n",
    "directories = list(root.glob('ERA*'))\n",
    "\n",
    "for d in directories[:]:\n",
    "    if (d / 'outputs').exists():\n",
    "        ncfile = nc4.Dataset(d / 'outputs' /'swan_HS.63.nc')\n",
    "        x,y = ncfile.variables['x'][:],ncfile.variables['y'][:]\n",
    "        distances,node_ids = point_lookup(y, x, py, px)\n",
    "        Z = np.array([np.max(ncfile['swan_HS'][1:,node].data) for node in node_ids[:,0]])\n",
    "        Z[Z<0]=0.01\n",
    "        idx = tracks['Cyclone'][tracks['Cyclone'].str.contains(d.name)].index\n",
    "        name = tracks['Month'][idx].values + ' ' + tracks['Type'][idx].values\n",
    "        if 'ET' in tracks['Type'][idx].values:\n",
    "            color = mpl.cm.Blues([count/5])\n",
    "        elif 'AP' in tracks['Type'][idx].values:\n",
    "            color = mpl.cm.Oranges([count/25])\n",
    "        if ('June' in tracks['Month'][idx].values) or ('July' in tracks['Month'][idx].values) or\\\n",
    "        ('August' in tracks['Month'][idx].values):\n",
    "            symbol = '+-'\n",
    "            axs[0,0].plot(pts['CommunityN'].values,Z,symbol,color=color,linewidth=0.75,markersize=3,label=name[0])\n",
    "            axs[0,0].set_title('Summer',fontsize=10)\n",
    "        elif ('September' in tracks['Month'][idx].values) or ('October' in tracks['Month'][idx].values) or\\\n",
    "        ('November' in tracks['Month'][idx].values):\n",
    "            symbol = '*-'\n",
    "            axs[0,1].plot(pts['CommunityN'].values,Z,symbol,color=color,linewidth=0.75,markersize=3,label=name[0])\n",
    "            axs[0,1].set_title('Fall',fontsize=10)\n",
    "        elif ('December' in tracks['Month'][idx].values) or ('January' in tracks['Month'][idx].values) or\\\n",
    "        ('February' in tracks['Month'][idx].values):\n",
    "            symbol = 's-'\n",
    "            axs[1,0].plot(pts['CommunityN'].values,Z,symbol,color=color,linewidth=0.75,markersize=3,label=name[0])\n",
    "            axs[1,0].set_title('Winter',fontsize=10)\n",
    "        elif ('March' in tracks['Month'][idx].values) or ('April' in tracks['Month'][idx].values) or\\\n",
    "        ('May' in tracks['Month'][idx].values):\n",
    "            symbol = 'd-'\n",
    "            axs[1,1].plot(pts['CommunityN'].values,Z,symbol,color=color,linewidth=0.75,markersize=3,label=name[0])\n",
    "            axs[1,1].set_title('Spring',fontsize=10)\n",
    "        \n",
    "        count+=1\n",
    "    else:\n",
    "        pass\n",
    "axs[1,0].set_xticklabels(pts['CommunityN'].values,rotation=90),axs[1,1].set_xticklabels(pts['CommunityN'].values,rotation=90)\n",
    "axs[0,0].set_ylabel(r'$H_{S}$ [m]',fontsize=14),axs[1,0].set_ylabel(r'$H_{S}$ [m]',fontsize=14)\n",
    "for i in [0,1]:\n",
    "    for ii in [0,1]:\n",
    "        axs[i,ii].set_ylim([0,7.00001]),axs[i,ii].set_xlim([0,len(pts)])\n",
    "        axs[i,ii].xaxis.set_major_locator(plt.MaxNLocator(len(pts)))\n",
    "        axs[i,ii].set_xmargin(10.25)\n",
    "        axs[i,ii].grid(True)\n",
    "\n",
    "#axs[0,0].legend(loc='upper right', bbox_to_anchor=(1.25, 1.05),ncol=1,frameon=False,fontsize=10)\n",
    "plt.savefig('/Users/tmiesse/work/FHRL/arctic/model/arctic_ocean_coastal_study/figures/ak_coast_season_hs2.png',bbox_inches='tight',pad_inches=0.1, dpi=600, transparent=True)\n",
    "plt.show()"
   ]
  },
  {
   "cell_type": "code",
   "execution_count": null,
   "metadata": {},
   "outputs": [],
   "source": []
  },
  {
   "cell_type": "code",
   "execution_count": null,
   "metadata": {},
   "outputs": [],
   "source": [
    "pts = gpd.read_file('/Users/tmiesse/work/FHRL/arctic/gis/Coastal_Communities/Coastal_Communities2.shp')\n",
    "px,py = [geo.x for geo in pts.geometry],[geo.y for geo in pts.geometry]\n",
    "plt.rcParams[\"font.family\"] = \"Times New Roman\"\n",
    "fig = plt.figure(figsize=(8,3))\n",
    "ax = plt.axes([0,0,1.,1.])\n",
    "count = 1\n",
    "directories = list(root.glob('ERA*'))\n",
    "\n",
    "for d in directories[:]:\n",
    "    if (d / 'outputs').exists():\n",
    "        ncfile = nc4.Dataset(d / 'outputs' /'fort.63.nc')\n",
    "        x,y = ncfile.variables['x'][:],ncfile.variables['y'][:]\n",
    "        distances,node_ids = point_lookup(y, x, py, px)\n",
    "        Z = np.array([np.max(ncfile['zeta'][1:,node].data) for node in node_ids[:,0]])\n",
    "        Z[Z<0]=0.01\n",
    "        idx = tracks['Cyclone'][tracks['Cyclone'].str.contains(d.name)].index\n",
    "        name = tracks['Month'][idx].values + ' ' + tracks['Type'][idx].values\n",
    "        if 'ET' in tracks['Type'][idx].values:\n",
    "            color = mpl.cm.Blues([count/5])\n",
    "        elif 'AP' in tracks['Type'][idx].values:\n",
    "            color = mpl.cm.Oranges([count/25])\n",
    "        if ('June' in tracks['Month'][idx].values) or ('July' in tracks['Month'][idx].values) or\\\n",
    "        ('August' in tracks['Month'][idx].values):\n",
    "            symbol = '+-'\n",
    "        elif ('September' in tracks['Month'][idx].values) or ('October' in tracks['Month'][idx].values) or\\\n",
    "        ('November' in tracks['Month'][idx].values):\n",
    "            symbol = '*-'\n",
    "        elif ('December' in tracks['Month'][idx].values) or ('January' in tracks['Month'][idx].values) or\\\n",
    "        ('February' in tracks['Month'][idx].values):\n",
    "            symbol = 's-'\n",
    "        elif ('March' in tracks['Month'][idx].values) or ('April' in tracks['Month'][idx].values) or\\\n",
    "        ('May' in tracks['Month'][idx].values):\n",
    "            symbol = 'd-'\n",
    "        ax.plot(pts['CommunityN'].values,Z,symbol,color=color,linewidth=0.75,markersize=3,label=name[0])\n",
    "        count+=1\n",
    "    else:\n",
    "        pass\n",
    "\n",
    "ax.set_ylabel(r'Water Surface Elevation [m at LMSL]',fontsize=14)\n",
    "ax.set_ylim([0,5.00001]),ax.set_xlim([0,len(pts)])\n",
    "ax.xaxis.set_major_locator(plt.MaxNLocator(len(pts)))\n",
    "ax.set_xmargin(10.25)\n",
    "ax.set_xticklabels(pts['CommunityN'].values,rotation=90)\n",
    "ax.grid(True)\n",
    "ax.legend(loc='upper right', bbox_to_anchor=(1.25, 1.05),ncol=1,frameon=False,fontsize=10)\n",
    "plt.savefig('/Users/tmiesse/work/FHRL/arctic/model/arctic_ocean_coastal_study/figures/ak_coast_surge1.png',bbox_inches='tight',pad_inches=0.1, dpi=600, transparent=True)\n",
    "plt.show()"
   ]
  },
  {
   "cell_type": "code",
   "execution_count": null,
   "metadata": {},
   "outputs": [],
   "source": []
  },
  {
   "cell_type": "code",
   "execution_count": null,
   "metadata": {},
   "outputs": [],
   "source": []
  },
  {
   "cell_type": "code",
   "execution_count": null,
   "metadata": {},
   "outputs": [],
   "source": []
  },
  {
   "cell_type": "code",
   "execution_count": null,
   "metadata": {},
   "outputs": [],
   "source": []
  }
 ],
 "metadata": {
  "kernelspec": {
   "display_name": "general",
   "language": "python",
   "name": "python3"
  },
  "language_info": {
   "codemirror_mode": {
    "name": "ipython",
    "version": 3
   },
   "file_extension": ".py",
   "mimetype": "text/x-python",
   "name": "python",
   "nbconvert_exporter": "python",
   "pygments_lexer": "ipython3",
   "version": "3.11.9"
  }
 },
 "nbformat": 4,
 "nbformat_minor": 4
}
