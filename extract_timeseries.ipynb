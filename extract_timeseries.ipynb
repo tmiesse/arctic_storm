{
 "cells": [
  {
   "cell_type": "markdown",
   "metadata": {},
   "source": [
    "# Model Output Notebook\n",
    "\n",
    "<img style=\"float:center;\" src=\"https://arcticexpansion.vse.gmu.edu/sites/arcticexpansion.vsnet.gmu.edu/files/images/header5d2.png\" width=600px>\n",
    "\n",
    "### ADCIRC-SWAN Output\n"
   ]
  },
  {
   "cell_type": "markdown",
   "metadata": {},
   "source": [
    "### Initialize Libraries"
   ]
  },
  {
   "cell_type": "code",
   "execution_count": 1,
   "metadata": {},
   "outputs": [],
   "source": [
    "import warnings;warnings.filterwarnings(\"ignore\")\n",
    "import netCDF4 as nc4;        import pandas as pd\n",
    "import requests;              import json;\n",
    "import matplotlib as mpl;     import matplotlib.pyplot as plt\n",
    "import matplotlib.tri as tri; import pathlib as pl\n",
    "import cartopy.crs as ccrs;   import cartopy.io.img_tiles as cart_img\n",
    "import cartopy as cart;       import cartopy.io.img_tiles as cimgt\n",
    "import numpy as np;           import xarray as xr\n",
    "import skill_metrics as sm;   import geopandas as gpd\n",
    "import multiprocessing as mp\n",
    "from shapely import Polygon,Point,MultiPoint,LineString,MultiLineString;import shapely.vectorized\n",
    "from sklearn.neighbors import BallTree\n",
    "from scipy.stats import linregress"
   ]
  },
  {
   "cell_type": "markdown",
   "metadata": {},
   "source": [
    "source $HOME/miniforge3/bin/activate\n"
   ]
  },
  {
   "cell_type": "markdown",
   "metadata": {},
   "source": [
    "### Defined Functions"
   ]
  },
  {
   "cell_type": "code",
   "execution_count": 2,
   "metadata": {},
   "outputs": [],
   "source": [
    "def noaa_data(begin,end,station,vdatum='NAVD',interval='6',\n",
    "                       form='json',t_zone='GMT',unit='metric',product='water_level'):\n",
    "    '''\n",
    "      :param begin: begin date of the data\n",
    "    :param end: end date of the data\n",
    "    :param station: noaa station id\n",
    "    :param vdatum: vertical datum such as NAVD\n",
    "    :param interval: interval of the data (6 minutes)\n",
    "    :param form: format of the data (json)\n",
    "    :param t_zone: time zone of the data (GMT)\n",
    "    :param unit: unit of the data (metric)\n",
    "    :param product: type of the data (water_level)\n",
    "    '''\n",
    "    api = f'https://tidesandcurrents.noaa.gov/api/datagetter?begin_date={begin}&end_date={end}&station={station}'\\\n",
    "         f'&product={product}&application=NOS.COOPS.TAC.WL&datum={vdatum}&interval={interval}&time_zone={t_zone}&units={unit}&format={form}'\n",
    "    data = requests.get(url=api).content.decode()\n",
    "    return data\n",
    "\n",
    "\n",
    "def nearest(items, pivot):\n",
    "    return min(items, key=lambda x: abs(x - pivot))\n",
    "\n",
    "def point_lookup(model_lat:np.array, model_lon:np.array, satellite_lat:np.array, satellite_lon:np.array):\n",
    "    tree = BallTree(np.deg2rad(np.c_[model_lat,model_lon]), metric='haversine')\n",
    "    distances, indices = tree.query(np.deg2rad(np.c_[satellite_lat, satellite_lon]), k = 1)\n",
    "    return distances*6371,indices\n"
   ]
  },
  {
   "cell_type": "markdown",
   "metadata": {},
   "source": [
    "#### Data for this exercise can be found here\n",
    "https://doi.org/10.17603/ds2-h0fw-2p96\n",
    "\n",
    "Download the swan_HS.63.nc from one of the 4 folders\n",
    "\n",
    "---"
   ]
  },
  {
   "cell_type": "markdown",
   "metadata": {},
   "source": [
    "### Initialize path and read netcdf file"
   ]
  },
  {
   "cell_type": "code",
   "execution_count": null,
   "metadata": {},
   "outputs": [],
   "source": [
    "root = pl.Path('/groups/ORC-CLIMATE/fhrl_repo/Arctic_Database/Raw_DATA')\n"
   ]
  },
  {
   "cell_type": "code",
   "execution_count": null,
   "metadata": {},
   "outputs": [],
   "source": [
    "\n",
    "files = ['fort.63.nc','swan_HS.63.nc','swan_TPS.63.nc','swan_DIR.63.nc']\n",
    "years = ['2006','2005','2004']\n",
    "\n",
    "\n",
    "#['2024','2023','2022','2021','2020','2019',\n",
    "        # '2018','2017','2016','2015','2014','2013',\n",
    "        # '2012','2011','2010']\n",
    "olat,olon = 70.148300, -143.704236\n",
    "for year in years:\n",
    "    data = {'time':[],'wse':[],'hs':[],'tp':[],'dir':[]}\n",
    "    for file in files:\n",
    "        ncfile = nc4.Dataset(root / year /'outputs' / file)\n",
    "        start = pd.to_datetime(ncfile.variables['time'].base_date)\n",
    "        dt = pd.date_range(start=start,freq='1h',periods=ncfile.dimensions['time'].size)\n",
    "        x,y = ncfile.variables['x'][:],ncfile.variables['y'][:]\n",
    "        distances,node_ids = wse.point_lookup(y, x,olat,olon)\n",
    "        if len(data['time'])<1:\n",
    "            data['time'] = dt[:]\n",
    "        if file == 'fort.63.nc':\n",
    "            model = ncfile.variables['zeta'][:,node_ids[0][0]]\n",
    "            data['wse'] = model\n",
    "        if file == 'swan_HS.63.nc':\n",
    "            hs = ncfile.variables['swan_HS'][:,node_ids[0][0]]\n",
    "            data['hs'] = hs\n",
    "        if file == 'swan_TPS.63.nc':\n",
    "            tp = ncfile.variables['swan_TPS'][:,node_ids[0][0]]\n",
    "            data['tp'] = tp\n",
    "        if file == 'swan_DIR.63.nc':\n",
    "            dir = ncfile.variables['swan_DIR'][:,node_ids[0][0]]\n",
    "            data['dir'] = dir\n",
    "        ncfile.close()\n",
    "    pdf = pd.DataFrame(data)\n",
    "    pdf.to_csv('/scratch/tmiesse/project/data4tom/' + year + '_data.csv',index=False)"
   ]
  },
  {
   "cell_type": "code",
   "execution_count": null,
   "metadata": {},
   "outputs": [],
   "source": []
  }
 ],
 "metadata": {
  "kernelspec": {
   "display_name": "general",
   "language": "python",
   "name": "python3"
  },
  "language_info": {
   "codemirror_mode": {
    "name": "ipython",
    "version": 3
   },
   "file_extension": ".py",
   "mimetype": "text/x-python",
   "name": "python",
   "nbconvert_exporter": "python",
   "pygments_lexer": "ipython3",
   "version": "3.12.9"
  }
 },
 "nbformat": 4,
 "nbformat_minor": 4
}
