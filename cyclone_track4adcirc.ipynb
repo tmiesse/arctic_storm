{
 "cells": [
  {
   "cell_type": "markdown",
   "metadata": {},
   "source": [
    "# Model Output Notebook\n",
    "\n",
    "<img style=\"float:center;\" src=\"https://arcticexpansion.vse.gmu.edu/sites/arcticexpansion.vsnet.gmu.edu/files/images/header5d2.png\" width=600px>\n",
    "\n",
    "### ADCIRC-SWAN Output\n"
   ]
  },
  {
   "cell_type": "markdown",
   "metadata": {},
   "source": [
    "### Initialize Libraries"
   ]
  },
  {
   "cell_type": "code",
   "execution_count": 1,
   "metadata": {},
   "outputs": [],
   "source": [
    "import warnings;warnings.filterwarnings(\"ignore\")\n",
    "import netCDF4 as nc4;        import pandas as pd\n",
    "import requests;              import json;\n",
    "import matplotlib as mpl;     import matplotlib.pyplot as plt\n",
    "import matplotlib.tri as tri; import pathlib as pl\n",
    "import cartopy.crs as ccrs;   import cartopy.io.img_tiles as cart_img\n",
    "import cartopy as cart;       import cartopy.io.img_tiles as cimgt\n",
    "import numpy as np;           import xarray as xr\n",
    "import skill_metrics as sm;   import geopandas as gpd\n",
    "import multiprocessing as mp\n",
    "from shapely import Polygon,Point,MultiPolygon,MultiPoint,LineString,MultiLineString;import shapely.vectorized\n",
    "from sklearn.neighbors import BallTree\n",
    "from geopy.distance import geodesic\n",
    "from scipy.stats import linregress\n",
    "from sklearn.cluster import DBSCAN\n",
    "from scipy.ndimage import gaussian_filter\n",
    "from shapely.ops import unary_union\n",
    "from scipy.spatial import Delaunay"
   ]
  },
  {
   "cell_type": "markdown",
   "metadata": {},
   "source": [
    "source $HOME/miniforge3/bin/activate\n"
   ]
  },
  {
   "cell_type": "markdown",
   "metadata": {},
   "source": [
    "### Defined Functions"
   ]
  },
  {
   "cell_type": "code",
   "execution_count": 2,
   "metadata": {},
   "outputs": [],
   "source": [
    "def noaa_data(begin,end,station,vdatum='NAVD',interval='6',\n",
    "                       form='json',t_zone='GMT',unit='metric',product='water_level'):\n",
    "    '''\n",
    "      :param begin: begin date of the data\n",
    "    :param end: end date of the data\n",
    "    :param station: noaa station id\n",
    "    :param vdatum: vertical datum such as NAVD\n",
    "    :param interval: interval of the data (6 minutes)\n",
    "    :param form: format of the data (json)\n",
    "    :param t_zone: time zone of the data (GMT)\n",
    "    :param unit: unit of the data (metric)\n",
    "    :param product: type of the data (water_level)\n",
    "    '''\n",
    "    api = f'https://tidesandcurrents.noaa.gov/api/datagetter?begin_date={begin}&end_date={end}&station={station}'\\\n",
    "         f'&product={product}&application=NOS.COOPS.TAC.WL&datum={vdatum}&interval={interval}&time_zone={t_zone}&units={unit}&format={form}'\n",
    "    data = requests.get(url=api).content.decode()\n",
    "    return data\n",
    "\n",
    "\n",
    "def nearest(items, pivot):\n",
    "    return min(items, key=lambda x: abs(x - pivot))\n",
    "\n",
    "def point_lookup(model_lat:np.array, model_lon:np.array, satellite_lat:np.array, satellite_lon:np.array):\n",
    "    tree = BallTree(np.deg2rad(np.c_[model_lat,model_lon]), metric='haversine')\n",
    "    distances, indices = tree.query(np.deg2rad(np.c_[satellite_lat, satellite_lon]), k = 1)\n",
    "    return distances*6371,indices\n",
    "def haversine(lat1, lon1, lat2, lon2):\n",
    "    R = 6371.0\n",
    "    lat1, lon1, lat2, lon2 = map(np.radians, [lat1, lon1, lat2, lon2])\n",
    "    dlat = lat2 - lat1\n",
    "    dlon = lon2 - lon1\n",
    "    a = np.sin(dlat/2)**2 + np.cos(lat1) * np.cos(lat2) * np.sin(dlon/2)**2\n",
    "    return R * 2 * np.arcsin(np.sqrt(a))\n",
    "def alpha_shape(points, alpha=0.1):\n",
    "    if len(points) < 4:\n",
    "        return MultiPoint(points).convex_hull\n",
    "\n",
    "    coords = np.array([[p.x, p.y] for p in points])\n",
    "    tri = Delaunay(coords)\n",
    "\n",
    "    triangles = []\n",
    "    for ia, ib, ic in tri.simplices:\n",
    "        pa, pb, pc = coords[ia], coords[ib], coords[ic]\n",
    "        a = np.linalg.norm(pa - pb)\n",
    "        b = np.linalg.norm(pb - pc)\n",
    "        c = np.linalg.norm(pc - pa)\n",
    "        s = (a + b + c) / 2.0\n",
    "        area = np.sqrt(s * (s - a) * (s - b) * (s - c))\n",
    "        circum_r = a * b * c / (4.0 * area)\n",
    "        if circum_r < 1.0 / alpha:\n",
    "            triangle = Polygon([pa, pb, pc])\n",
    "            triangles.append(triangle)\n",
    "\n",
    "    return unary_union(triangles)"
   ]
  },
  {
   "cell_type": "markdown",
   "metadata": {},
   "source": [
    "#### Data for this exercise can be found here\n",
    "https://doi.org/10.17603/ds2-h0fw-2p96\n",
    "\n",
    "Download the swan_HS.63.nc from one of the 4 folders\n",
    "\n",
    "---"
   ]
  },
  {
   "cell_type": "markdown",
   "metadata": {},
   "source": [
    "### Initialize path and read netcdf file"
   ]
  },
  {
   "cell_type": "code",
   "execution_count": 10,
   "metadata": {},
   "outputs": [],
   "source": [
    "root = pl.Path('/groups/ORC-CLIMATE/fhrl_repo/Arctic_Database/Raw_DATA')\n",
    "\n",
    "wind_file = nc4.Dataset(root / '2022' /'outputs' / 'fort.74.nc')\n",
    "pressure_file = nc4.Dataset(root / '2022' /'outputs' / 'fort.73.nc')\n",
    "pfile = root / '2022' /'outputs' / 'fort.73.nc'"
   ]
  },
  {
   "cell_type": "code",
   "execution_count": 4,
   "metadata": {},
   "outputs": [],
   "source": [
    "start_date = pd.to_datetime(\"2022-09-08\")\n",
    "end_date = pd.to_datetime(\"2022-09-20\")\n"
   ]
  },
  {
   "cell_type": "code",
   "execution_count": 5,
   "metadata": {},
   "outputs": [],
   "source": [
    "\n",
    "times = wind_file.variables['time'][:]\n",
    "\n",
    "start = pd.to_datetime(wind_file.variables['time'].base_date)\n",
    "timestamps = pd.date_range(start=start, freq='1h', periods=len(times)).tz_localize(None)\n",
    "time_mask = (timestamps >= start_date) & (timestamps <= end_date)\n",
    "timestamps = timestamps[time_mask]\n",
    "lon = wind_file.variables['x'][:]\n",
    "lat = wind_file.variables['y'][:]\n",
    "windx = wind_file.variables['windx'][time_mask,:]\n",
    "windy = wind_file.variables['windy'][time_mask,:]\n",
    "\n",
    "# === Compute wind speed ===\n",
    "wind_speed = np.sqrt(windx**2 + windy**2)  # Shape: [time, node]\n",
    "pressure = pressure_file.variables['pressure'][time_mask,:]\n",
    "# === Track cyclone using max wind speed ===\n",
    "\n",
    "pressure_hpa = pressure * 98.07"
   ]
  },
  {
   "cell_type": "code",
   "execution_count": 32,
   "metadata": {},
   "outputs": [],
   "source": [
    "def detect_local_minima(timestamps, pressure_hpa, wind_speed, lat, lon):\n",
    "    detections = []\n",
    "    for i, t in enumerate(timestamps):\n",
    "        p = pressure_hpa[i, :]\n",
    "        w = wind_speed[i, :]\n",
    "        smoothed_p = gaussian_filter(p, sigma=2)\n",
    "        local_min_indices = np.argpartition(smoothed_p, 3)[:3]\n",
    "        for idx in local_min_indices:\n",
    "            if 930 < smoothed_p[idx] < 1040 and w[idx] > 4:\n",
    "                detections.append({\n",
    "                    'timestamp': t,\n",
    "                    'lat': lat[idx],\n",
    "                    'lon': lon[idx],\n",
    "                    'wind_speed': w[idx],\n",
    "                    'pressure': smoothed_p[idx]\n",
    "                })\n",
    "    return detections\n",
    "\n",
    "def filter_by_domain(detections, lon, lat, pressure_file):\n",
    "    from shapely.geometry import MultiPolygon\n",
    "    try:\n",
    "        with nc4.Dataset(pressure_file) as ds:\n",
    "            elements = ds.variables['element'][:] - 1\n",
    "            zeta = ds.variables['pressure'][:]\n",
    "            max_zeta = np.max(zeta, axis=0)\n",
    "            if np.ma.is_masked(max_zeta):\n",
    "                masked_nodes = np.where(max_zeta.mask)[0]\n",
    "                tri_mask = np.any(np.isin(elements, masked_nodes), axis=1)\n",
    "                elements = elements[~tri_mask]  # remove masked triangles\n",
    "\n",
    "        triangles = []\n",
    "        for tri in elements:\n",
    "            coords = [(lon[tri[0]], lat[tri[0]]), (lon[tri[1]], lat[tri[1]]), (lon[tri[2]], lat[tri[2]])]\n",
    "            triangles.append(Polygon(coords))\n",
    "        domain_polygon = unary_union(triangles)\n",
    "    except Exception as e:\n",
    "        print(\"Could not build domain polygon from elements:\", e)\n",
    "        node_points = [Point(lon[i], lat[i]) for i in range(len(lon))]\n",
    "        domain_polygon = alpha_shape(node_points, alpha=0.02)\n",
    "\n",
    "    df = pd.DataFrame(detections)\n",
    "    df['geometry'] = df.apply(lambda row: Point(row['lon'], row['lat']), axis=1)\n",
    "    gdf = gpd.GeoDataFrame(df, geometry='geometry', crs=\"EPSG:4326\")\n",
    "    return gdf[gdf.geometry.within(domain_polygon)].copy()\n",
    "\n",
    "\n",
    "def run_dbscan(df):\n",
    "    from uuid import uuid4\n",
    "    from sklearn.cluster import DBSCAN\n",
    "\n",
    "    lat_km = 111\n",
    "    lon_km = 55\n",
    "    df['lat_km'] = df['lat'] * lat_km\n",
    "    df['lon_km'] = df['lon'] * lon_km\n",
    "    df['time_numeric'] = (df['timestamp'] - df['timestamp'].min()).dt.total_seconds() / 3600.0\n",
    "    scaled_coords = df[['lat_km', 'lon_km', 'time_numeric']].to_numpy()\n",
    "\n",
    "    db = DBSCAN(eps=150, min_samples=3).fit(scaled_coords)\n",
    "    df['track_number'] = db.labels_\n",
    "\n",
    "    track_durations = df.groupby('track_number')['timestamp'].agg(['min', 'max'])\n",
    "    track_durations['duration_hours'] = (track_durations['max'] - track_durations['min']).dt.total_seconds() / 3600.0\n",
    "    valid_tracks = track_durations[track_durations['duration_hours'] >= 24].index\n",
    "\n",
    "    df = df[df['track_number'].isin(valid_tracks)].copy()\n",
    "\n",
    "    cluster_to_uid = {label: str(uuid4()) for label in df['track_number'].unique() if label != -1}\n",
    "    df['track_id'] = df['track_number'].apply(lambda x: cluster_to_uid.get(x, 'noise'))\n",
    "\n",
    "    track_durations = df.groupby('track_id')['timestamp'].agg(['min', 'max'])\n",
    "    track_durations['duration_hours'] = (track_durations['max'] - track_durations['min']).dt.total_seconds() / 3600.0\n",
    "    valid_tracks = track_durations[track_durations['duration_hours'] >= 24].index\n",
    "\n",
    "    return df[df['track_id'].isin(valid_tracks)].copy()\n",
    "def closest_track_to_merbok(df):\n",
    "    # Identify Merbok as the only track that crosses the Bering Strait (~66.5N)\n",
    "    for track_id, group in df[df['track_id'] != 'noise'].groupby('track_id'):\n",
    "        if group['lat'].max() >= 66.5:\n",
    "            return track_id\n",
    "    print(\"Warning: No track crosses the Bering Strait. Merbok not found.\")\n",
    "    return -999"
   ]
  },
  {
   "cell_type": "code",
   "execution_count": 33,
   "metadata": {},
   "outputs": [
    {
     "name": "stdout",
     "output_type": "stream",
     "text": [
      "Warning: No track crosses the Bering Strait. Merbok not found.\n"
     ]
    }
   ],
   "source": [
    "detections = detect_local_minima(timestamps, pressure_hpa, wind_speed, lat, lon)\n",
    "df = filter_by_domain(detections, lon, lat, pfile)\n",
    "df['time_numeric'] = (df['timestamp'] - df['timestamp'].min()).dt.total_seconds() / 3600.0\n",
    "df = run_dbscan(df)\n",
    "start_point = np.array([58.25, -170.0])\n",
    "merbok_id = closest_track_to_merbok(df)\n",
    "df['track_label'] = df['track_id'].apply(lambda x: 'merbok' if x == merbok_id else ('noise' if x == 'noise' else 'other'))\n"
   ]
  },
  {
   "cell_type": "code",
   "execution_count": 34,
   "metadata": {},
   "outputs": [],
   "source": [
    "df['datetime'] = df['timestamp'].dt.strftime('%Y-%m-%d %H:%M:%S')\n",
    "df['geometry'] = df.apply(lambda row: Point(row['lon'], row['lat']), axis=1)\n",
    "gdf = gpd.GeoDataFrame(df, geometry='geometry', crs=\"EPSG:4326\")\n",
    "gdf.to_file(\"/scratch/tmiesse/project/tracks/cyclone_merbok_track_2022_filtered.shp\")"
   ]
  },
  {
   "cell_type": "code",
   "execution_count": 6,
   "metadata": {},
   "outputs": [
    {
     "name": "stdout",
     "output_type": "stream",
     "text": [
      "Warning: No track crosses the Bering Strait. Merbok not found.\n"
     ]
    }
   ],
   "source": [
    "detections = []\n",
    "for i, t in enumerate(timestamps):\n",
    "    p = pressure_hpa[i, :]\n",
    "    w = wind_speed[i, :]\n",
    "    smoothed_p = gaussian_filter(p, sigma=2)\n",
    "\n",
    "    # Get indices of lowest N values (e.g. top 3 minima)\n",
    "    local_min_indices = np.argpartition(smoothed_p, 3)[:3]\n",
    "\n",
    "    for idx in local_min_indices:\n",
    "        if 950 < smoothed_p[idx] < 1010 and w[idx] > 10:\n",
    "            detections.append({\n",
    "                'timestamp': t,\n",
    "                'lat': lat[idx],\n",
    "                'lon': lon[idx],\n",
    "                'wind_speed': w[idx],\n",
    "                'pressure': smoothed_p[idx]\n",
    "            })\n",
    "# === Create DataFrame ===\n",
    "node_points = [Point(lon[i], lat[i]) for i in range(len(lon))]\n",
    "domain_polygon = alpha_shape(node_points, alpha=0.02)\n",
    "# Optional: buffer zone (in degrees) to remove detections too close to boundaries\n",
    "\n",
    "\n",
    "\n",
    "df = pd.DataFrame(detections)\n",
    "df['geometry'] = df.apply(lambda row: Point(row['lon'], row['lat']), axis=1)\n",
    "gdf_detections = gpd.GeoDataFrame(df, geometry='geometry', crs=\"EPSG:4326\")\n",
    "\n",
    "# Filter only detections inside domain polygon\n",
    "gdf_detections = gdf_detections[gdf_detections.geometry.within(domain_polygon)]\n",
    "\n",
    "df = gdf_detections.copy()\n",
    "df['time_numeric'] = (df['timestamp'] - df['timestamp'].min()).dt.total_seconds() / 3600.0\n",
    "\n",
    "# === Run DBSCAN on lat/lon/time ===\n",
    "from uuid import uuid4\n",
    "# === Normalize time and distance scales for DBSCAN with dynamic radius ===\n",
    "from sklearn.preprocessing import StandardScaler\n",
    "\n",
    "# Approximate degree-to-km conversion at 60N\n",
    "lat_km = 111\n",
    "lon_km = 55\n",
    "\n",
    "df['lat_km'] = df['lat'] * lat_km\n",
    "\n",
    "df['lon_km'] = df['lon'].apply(lambda x: x * lon_km)\n",
    "scaled_coords = df[['lat_km', 'lon_km', 'time_numeric']].to_numpy()\n",
    "\n",
    "db = DBSCAN(eps=150, min_samples=3).fit(scaled_coords)  # eps in km + hours\n",
    "df['track_number'] = db.labels_\n",
    "# Assign unique string identifiers AFTER filtering\n",
    "from collections import defaultdict\n",
    "\n",
    "# Filter tracks by duration (minimum 24 hours)\n",
    "track_durations = df.groupby('track_number')['timestamp'].agg(['min', 'max'])\n",
    "track_durations['duration_hours'] = (track_durations['max'] - track_durations['min']).dt.total_seconds() / 3600.0\n",
    "valid_tracks = track_durations[track_durations['duration_hours'] >= 24].index\n",
    "\n",
    "df = df[df['track_number'].isin(valid_tracks)].copy()\n",
    "\n",
    "# Assign new UUIDs only to valid tracks\n",
    "cluster_to_uid = {label: str(uuid4()) for label in df['track_number'].unique() if label != -1}\n",
    "df['track_id'] = df['track_number'].apply(lambda x: cluster_to_uid.get(x, 'noise'))\n",
    "\n",
    "# === Filter tracks by duration (minimum 24 hours) ===\n",
    "track_durations = df.groupby('track_id')['timestamp'].agg(['min', 'max'])\n",
    "track_durations['duration_hours'] = (track_durations['max'] - track_durations['min']).dt.total_seconds() / 3600.0\n",
    "valid_tracks = track_durations[track_durations['duration_hours'] >= 24].index\n",
    "\n",
    "df = df[df['track_id'].isin(valid_tracks)].copy()\n",
    "\n",
    "# === Identify Merbok by known start location ===\n",
    "start_point = np.array([58.25, -170.0])\n",
    "\n",
    "def closest_track_to_merbok(df):\n",
    "    # Identify Merbok as the only track that crosses the Bering Strait (~66.5N)\n",
    "    for track_id, group in df[df['track_id'] != 'noise'].groupby('track_id'):\n",
    "        if group['lat'].max() >= 66.5:\n",
    "            return track_id\n",
    "    print(\"Warning: No track crosses the Bering Strait. Merbok not found.\")\n",
    "    return -999\n",
    "\n",
    "merbok_id = closest_track_to_merbok(df)\n",
    "df['track_label'] = df['track_id'].apply(lambda x: 'merbok' if x == merbok_id else ('noise' if x == 'noise' else 'other'))\n"
   ]
  },
  {
   "cell_type": "code",
   "execution_count": 7,
   "metadata": {},
   "outputs": [
    {
     "name": "stdout",
     "output_type": "stream",
     "text": [
      "Saved shapefile as cyclone_merbok_track_2022_filtered.shp\n"
     ]
    }
   ],
   "source": [
    "df['datetime'] = df['timestamp'].dt.strftime('%Y-%m-%d %H:%M:%S')\n",
    "df['geometry'] = df.apply(lambda row: Point(row['lon'], row['lat']), axis=1)\n",
    "gdf = gpd.GeoDataFrame(df, geometry='geometry', crs=\"EPSG:4326\")\n",
    "gdf.to_file(\"/scratch/tmiesse/project/tracks/cyclone_merbok_track_2022_filtered.shp\")\n",
    "print(\"Saved shapefile as cyclone_merbok_track_2022_filtered.shp\")"
   ]
  },
  {
   "cell_type": "code",
   "execution_count": 9,
   "metadata": {},
   "outputs": [
    {
     "data": {
      "image/png": "[encoded data removed]",
      "text/plain": [
       "<Figure size 640x480 with 1 Axes>"
      ]
     },
     "metadata": {},
     "output_type": "display_data"
    }
   ],
   "source": [
    "# === Build alpha shape ===\n",
    "node_points = [Point(lon[i], lat[i]) for i in range(len(lon))]\n",
    "\n",
    "def alpha_shape(points, alpha=0.02):\n",
    "    if len(points) < 4:\n",
    "        return MultiPoint(points).convex_hull\n",
    "    coords = np.array([[p.x, p.y] for p in points])\n",
    "    tri = Delaunay(coords)\n",
    "    triangles = []\n",
    "    for ia, ib, ic in tri.simplices:\n",
    "        pa, pb, pc = coords[ia], coords[ib], coords[ic]\n",
    "        a = np.linalg.norm(pa - pb)\n",
    "        b = np.linalg.norm(pb - pc)\n",
    "        c = np.linalg.norm(pc - pa)\n",
    "        s = (a + b + c) / 2.0\n",
    "        area = np.sqrt(s * (s - a) * (s - b) * (s - c))\n",
    "        circum_r = a * b * c / (4.0 * area)\n",
    "        if circum_r < 1.0 / alpha:\n",
    "            triangles.append(Polygon([pa, pb, pc]))\n",
    "    return unary_union(triangles)\n",
    "\n",
    "domain_polygon = alpha_shape(node_points, alpha=0.02)\n",
    "\n",
    "# === Plot the result ===\n",
    "gdf = gpd.GeoDataFrame(geometry=[domain_polygon], crs=\"EPSG:4326\")\n",
    "gdf.plot()\n",
    "plt.title(\"ADCIRC Mesh Domain Polygon (Alpha Shape)\")\n",
    "plt.xlabel(\"Longitude\")\n",
    "plt.ylabel(\"Latitude\")\n",
    "plt.show()"
   ]
  },
  {
   "cell_type": "code",
   "execution_count": null,
   "metadata": {},
   "outputs": [],
   "source": []
  },
  {
   "cell_type": "code",
   "execution_count": null,
   "metadata": {},
   "outputs": [],
   "source": []
  },
  {
   "cell_type": "code",
   "execution_count": null,
   "metadata": {},
   "outputs": [],
   "source": []
  }
 ],
 "metadata": {
  "kernelspec": {
   "display_name": "general",
   "language": "python",
   "name": "python3"
  },
  "language_info": {
   "codemirror_mode": {
    "name": "ipython",
    "version": 3
   },
   "file_extension": ".py",
   "mimetype": "text/x-python",
   "name": "python",
   "nbconvert_exporter": "python",
   "pygments_lexer": "ipython3",
   "version": "3.12.9"
  }
 },
 "nbformat": 4,
 "nbformat_minor": 4
}
