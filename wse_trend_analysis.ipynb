{
 "cells": [
  {
   "cell_type": "markdown",
   "metadata": {},
   "source": [
    "# Model Output Notebook\n",
    "\n",
    "<img style=\"float:center;\" src=\"https://arcticexpansion.vse.gmu.edu/sites/arcticexpansion.vsnet.gmu.edu/files/images/header5d2.png\" width=600px>\n",
    "\n",
    "### ADCIRC-SWAN Output\n"
   ]
  },
  {
   "cell_type": "markdown",
   "metadata": {},
   "source": [
    "### Initialize Libraries"
   ]
  },
  {
   "cell_type": "code",
   "execution_count": 1,
   "metadata": {},
   "outputs": [],
   "source": [
    "import warnings;warnings.filterwarnings(\"ignore\")\n",
    "import netCDF4 as nc4;        import pandas as pd\n",
    "import requests;              import json;\n",
    "import matplotlib as mpl;     import matplotlib.pyplot as plt\n",
    "import matplotlib.tri as tri; import pathlib as pl\n",
    "import cartopy.crs as ccrs;   import cartopy.io.img_tiles as cart_img\n",
    "import cartopy as cart;       import cartopy.io.img_tiles as cimgt\n",
    "import numpy as np;           import xarray as xr\n",
    "import skill_metrics as sm;   import geopandas as gpd\n",
    "from shapely import Polygon,Point,MultiPoint,LineString,MultiLineString;import shapely.vectorized\n",
    "from sklearn.neighbors import BallTree\n",
    "from scipy.stats import linregress"
   ]
  },
  {
   "cell_type": "markdown",
   "metadata": {},
   "source": [
    "source $HOME/miniforge3/bin/activate\n",
    "\n",
    "salloc --ntasks=5 --nodes=1 --partition=normal --time=10:00:00"
   ]
  },
  {
   "cell_type": "markdown",
   "metadata": {},
   "source": [
    "### Defined Functions"
   ]
  },
  {
   "cell_type": "code",
   "execution_count": 2,
   "metadata": {},
   "outputs": [],
   "source": [
    "def noaa_data(begin,end,station,vdatum='NAVD',interval='6',\n",
    "                       form='json',t_zone='GMT',unit='metric',product='water_level'):\n",
    "    '''\n",
    "    This function is used to get the data from NOAA API\n",
    "    :param begin: begin date of the data\n",
    "    :param end: end date of the data\n",
    "    :param station: noaa station id\n",
    "    :param vdatum: vertical datum such as NAVD\n",
    "    :param interval: interval of the data (6 minutes)\n",
    "    :param form: format of the data (json)\n",
    "    :param t_zone: time zone of the data (GMT)\n",
    "    :param unit: unit of the data (metric)\n",
    "    :param product: type of the data (water_level)\n",
    "    '''\n",
    "    api = f'https://tidesandcurrents.noaa.gov/api/datagetter?begin_date={begin}&end_date={end}&station={station}'\\\n",
    "         f'&product={product}&application=NOS.COOPS.TAC.WL&datum={vdatum}&interval={interval}&time_zone={t_zone}&units={unit}&format={form}'\n",
    "    data = requests.get(url=api).content.decode()\n",
    "    return data\n",
    "\n",
    "\n",
    "def nearest(items, pivot):\n",
    "    return min(items, key=lambda x: abs(x - pivot))\n",
    "\n",
    "def point_lookup(model_lat:np.array, model_lon:np.array, satellite_lat:np.array, satellite_lon:np.array):\n",
    "    tree = BallTree(np.deg2rad(np.c_[model_lat,model_lon]), metric='haversine')\n",
    "    distances, indices = tree.query(np.deg2rad(np.c_[satellite_lat, satellite_lon]), k = 1)\n",
    "    return distances*6371,indices\n"
   ]
  },
  {
   "cell_type": "markdown",
   "metadata": {},
   "source": [
    "#### Data for this exercise can be found here\n",
    "https://doi.org/10.17603/ds2-h0fw-2p96\n",
    "\n",
    "Download the swan_HS.63.nc from one of the 4 folders\n",
    "\n",
    "---"
   ]
  },
  {
   "cell_type": "markdown",
   "metadata": {},
   "source": [
    "### Initialize path and read netcdf file"
   ]
  },
  {
   "cell_type": "code",
   "execution_count": 3,
   "metadata": {},
   "outputs": [],
   "source": [
    "root = pl.Path('/groups/ORC-CLIMATE/fhrl_repo/Arctic_Database')\n",
    "\n",
    "#ncfile = nc4.Dataset(root / '2023' /'outputs' / 'fort.63.nc')"
   ]
  },
  {
   "cell_type": "markdown",
   "metadata": {},
   "source": [
    "#### Read metadata within netcdf file"
   ]
  },
  {
   "cell_type": "code",
   "execution_count": 4,
   "metadata": {},
   "outputs": [],
   "source": [
    "start = pd.to_datetime(ncfile.variables['time'].base_date)\n",
    "dt = pd.date_range(start=start,freq='1h',periods=ncfile.dimensions['time'].size)\n",
    "\n",
    "# read the lons and lats from netcdf file\n",
    "x,y = ncfile.variables['x'][:],ncfile.variables['y'][:]"
   ]
  },
  {
   "cell_type": "markdown",
   "metadata": {},
   "source": [
    "_____________________________________"
   ]
  },
  {
   "cell_type": "code",
   "execution_count": 4,
   "metadata": {},
   "outputs": [],
   "source": [
    "stations = {'prudhoe':{'id':9497645,'lat':70.414987,'lon':-148.537066},\n",
    "            'red':{'id':9491094,'lat':67.573874,'lon':-164.066624},\n",
    "            'nome':{'id':9468756,'lat':64.486464,'lon':-165.450185},\n",
    "            'unalakleet':{'id':9468333,'lat':63.881322,'lon':-160.820145},\n",
    "            'paul':{'id':9464212,'lat':57.228635,'lon':-170.241801}}"
   ]
  },
  {
   "cell_type": "code",
   "execution_count": null,
   "metadata": {},
   "outputs": [],
   "source": [
    "years = ['2024','2023','2022','2021','2019','2018','2017','2016']\n",
    "name = 'nome'\n",
    "obs_lat = stations[name]['lat']\n",
    "obs_lon = stations[name]['lon']\n",
    "df_list = []\n",
    "for year in years:\n",
    "    ncfile = nc4.Dataset(root / year /'outputs' / 'fort.63.nc')\n",
    "    start = pd.to_datetime(ncfile.variables['time'].base_date)\n",
    "    dt = pd.date_range(start=start,freq='1h',periods=ncfile.dimensions['time'].size)\n",
    "    x,y = ncfile.variables['x'][:],ncfile.variables['y'][:]\n",
    "    distances,node_ids = point_lookup(y, x,obs_lat,obs_lon)\n",
    "    model = ncfile.variables['zeta'][:,node_ids[0][0]]\n",
    "    df = pd.DataFrame({'dt': dt, 'data': model})\n",
    "    df_daily_max = df.resample('D', on='dt').max().reset_index()\n",
    "    df_daily_max[\"Year\"] = df_daily_max[\"dt\"].dt.year\n",
    "    df_list.append(df_daily_max)\n",
    "    \n",
    "    #slope = np.diff(model,prepend=np.nan)\n",
    "    #idm = np.where((slope[:-1] > 0) & (slope[1:] < 0))[0]\n"
   ]
  },
  {
   "cell_type": "code",
   "execution_count": 6,
   "metadata": {},
   "outputs": [],
   "source": [
    "df_daily_wse = pd.concat(df_list, ignore_index=True)\n",
    "df_annual_mean = df_daily_wse.groupby(\"Year\")[\"data\"].mean().reset_index()\n",
    "slope, intercept, r_value, p_value, std_err = linregress(df_annual_mean[\"Year\"], df_annual_mean[\"data\"])\n",
    "df_annual_mean[\"Expected_WSE\"] = df_annual_mean[\"Year\"] * slope + intercept\n",
    "df_daily_wse[\"Year\"] = df_daily_wse[\"dt\"].dt.year\n",
    "df_daily_wse[\"Month\"] = df_daily_wse[\"dt\"].dt.month\n"
   ]
  },
  {
   "cell_type": "code",
   "execution_count": 7,
   "metadata": {},
   "outputs": [
    {
     "data": {
      "image/png": "[encoded data removed]",
      "text/plain": [
       "<Figure size 800x400 with 1 Axes>"
      ]
     },
     "metadata": {},
     "output_type": "display_data"
    }
   ],
   "source": [
    "# plot parameters to initialize the plot\n",
    "#plt.rcParams[\"font.family\"] = \"Times New Roman\"\n",
    "fig = plt.figure(figsize=(8,4))\n",
    "colors = ['#00cc99','#ffcc66','#99cc00']\n",
    "ax = plt.axes([0,0.,0.9,.9])\n",
    "c=0\n",
    "\n",
    "ax.scatter(df_annual_mean[\"Year\"], df_annual_mean[\"data\"], label=\"Annual Mean WSE\", color=\"blue\")\n",
    "ax.plot(df_annual_mean[\"Year\"], df_annual_mean[\"Expected_WSE\"], color=\"red\", linestyle=\"--\", label=f\"Trend Line ({slope:.4f} m/year)\")\n",
    "\n",
    "\n",
    "\n",
    "ax.set_ylabel(r'WSE [m]',fontsize=14)\n",
    "ax.set_ylim([-0.50001,0.500001])\n",
    "\n",
    "ax.grid(True)\n",
    "ax.legend(loc='upper right', bbox_to_anchor=(0.6, -.05),ncol=2,frameon=False,fontsize=10)\n",
    "ax.set_title(name)\n",
    "ax.xaxis.set_major_locator(plt.MaxNLocator(8))\n",
    "#plt.savefig(f'/Users/tmiesse/work/FHRL/arctic/model/arctic_ocean_coastal_study/figures/{name}_wl.png',dpi=480,bbox_inches='tight',pad_inches=0.1,transparent=True)\n",
    "plt.show()"
   ]
  },
  {
   "cell_type": "code",
   "execution_count": null,
   "metadata": {},
   "outputs": [],
   "source": []
  }
 ],
 "metadata": {
  "kernelspec": {
   "display_name": "general",
   "language": "python",
   "name": "python3"
  },
  "language_info": {
   "codemirror_mode": {
    "name": "ipython",
    "version": 3
   },
   "file_extension": ".py",
   "mimetype": "text/x-python",
   "name": "python",
   "nbconvert_exporter": "python",
   "pygments_lexer": "ipython3",
   "version": "3.12.9"
  }
 },
 "nbformat": 4,
 "nbformat_minor": 4
}
