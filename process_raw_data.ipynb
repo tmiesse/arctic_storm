{
 "cells": [
  {
   "cell_type": "markdown",
   "metadata": {},
   "source": [
    "# Model Output Notebook\n",
    "\n",
    "<img style=\"float:center;\" src=\"https://arcticexpansion.vse.gmu.edu/sites/arcticexpansion.vsnet.gmu.edu/files/images/header5d2.png\" width=600px>\n",
    "\n",
    "### ADCIRC-SWAN Output\n"
   ]
  },
  {
   "cell_type": "markdown",
   "metadata": {},
   "source": [
    "### Initialize Libraries"
   ]
  },
  {
   "cell_type": "code",
   "execution_count": 1,
   "metadata": {},
   "outputs": [],
   "source": [
    "import netCDF4 as nc4;        import pandas as pd\n",
    "import pathlib as pl;         import geopandas as gpd\n",
    "import numpy as np;           import xarray as xr\n",
    "\n",
    "from shapely import Polygon,Point,MultiPoint,LineString,MultiLineString;import shapely.vectorized\n",
    "from sklearn.neighbors import BallTree\n",
    "from scipy.stats import linregress"
   ]
  },
  {
   "cell_type": "markdown",
   "metadata": {},
   "source": [
    "source $HOME/miniforge3/bin/activate\n",
    "\n",
    "salloc --ntasks=5 --nodes=1 --partition=normal --time=10:00:00"
   ]
  },
  {
   "cell_type": "markdown",
   "metadata": {},
   "source": [
    "### Defined Functions"
   ]
  },
  {
   "cell_type": "code",
   "execution_count": 2,
   "metadata": {},
   "outputs": [],
   "source": [
    "\n",
    "def nearest(items, pivot):\n",
    "    return min(items, key=lambda x: abs(x - pivot))\n",
    "\n",
    "def point_lookup(model_lat:np.array, model_lon:np.array, satellite_lat:np.array, satellite_lon:np.array):\n",
    "    tree = BallTree(np.deg2rad(np.c_[model_lat,model_lon]), metric='haversine')\n",
    "    distances, indices = tree.query(np.deg2rad(np.c_[satellite_lat, satellite_lon]), k = 1)\n",
    "    return distances*6371,indices\n"
   ]
  },
  {
   "cell_type": "markdown",
   "metadata": {},
   "source": [
    "#### Data for this exercise can be found here\n",
    "https://doi.org/10.17603/ds2-h0fw-2p96\n",
    "\n",
    "Download the swan_HS.63.nc from one of the 4 folders\n",
    "\n",
    "---"
   ]
  },
  {
   "cell_type": "code",
   "execution_count": 3,
   "metadata": {},
   "outputs": [],
   "source": [
    "root = pl.Path('/groups/ORC-CLIMATE/fhrl_repo/Arctic_Database/Raw_DATA')\n",
    "outdir = pl.Path('/groups/ORC-CLIMATE/fhrl_repo/Arctic_Database/Processed_DATA')"
   ]
  },
  {
   "cell_type": "code",
   "execution_count": 4,
   "metadata": {},
   "outputs": [],
   "source": [
    "gdf = gpd.read_file('/groups/ORC-CLIMATE/fhrl_repo/Arctic_Database/arctic_shapefiles/comm4process/nodes4communities.shp')"
   ]
  },
  {
   "cell_type": "code",
   "execution_count": 5,
   "metadata": {},
   "outputs": [],
   "source": [
    "comm_lats = gdf.geometry.y.values\n",
    "comm_lons = gdf.geometry.x.values\n",
    "comm_names = gdf[\"community\"].astype(str).values  # Adjust to your column name\n",
    "node_ids = gdf[\"node_ids\"].values.astype(int)         # Adjust to your node column name\n",
    "max_name_len = max(len(name) for name in comm_names)"
   ]
  },
  {
   "cell_type": "code",
   "execution_count": 6,
   "metadata": {},
   "outputs": [],
   "source": [
    "year = 2024\n",
    "output_dir = root / str(year) / \"outputs\"\n",
    "\n",
    "outdir.mkdir(parents=True, exist_ok=True)\n",
    "file_var_map = {\n",
    "    \"zeta\": \"fort.63.nc\",\n",
    "}\n",
    "'''\n",
    "file_var_map = {\n",
    "    \"zeta\": \"fort.63.nc\",\n",
    "    \"u-vel\": \"fort.64.nc\",\n",
    "    \"v-vel\": \"fort.64.nc\",\n",
    "    \"pressure\": \"fort.73.nc\",\n",
    "    \"windx\": \"fort.74.nc\",\n",
    "    \"windy\": \"fort.74.nc\",\n",
    "    \"iceaf\": \"fort.93.nc\",\n",
    "    \"swan_HS\": \"swan_HS.63.nc\",\n",
    "    \"swan_TPS\": \"swan_TPS.63.nc\",\n",
    "    \"swan_DIR\": \"swan_DIR.63.nc\"\n",
    "}\n",
    "'''\n",
    "from collections import defaultdict\n",
    "file_to_vars = defaultdict(list)\n",
    "for var, fname in file_var_map.items():\n",
    "    file_to_vars[fname].append(var)"
   ]
  },
  {
   "cell_type": "code",
   "execution_count": null,
   "metadata": {},
   "outputs": [],
   "source": [
    "data_by_var = {var: [] for var in file_var_map}\n",
    "time_list = []\n",
    "\n",
    "for fname, var_list in file_to_vars.items():\n",
    "    file_path = output_dir / fname\n",
    "    if not file_path.exists():\n",
    "        print(f\"⚠️ File not found: {file_path}\")\n",
    "        continue\n",
    "\n",
    "    with nc4.Dataset(file_path) as ds:\n",
    "        if \"time\" in ds.variables:\n",
    "            time = ds.variables[\"time\"][:]\n",
    "            time_list.append(time)\n",
    "\n",
    "        for var in var_list:\n",
    "            nc_var = var if var in ds.variables else var.replace(\"-\", \"_\")\n",
    "            if nc_var in ds.variables:\n",
    "                var_data = ds.variables[nc_var][:, node_ids]\n",
    "                data_by_var[var].append(var_data)\n",
    "            else:\n",
    "                print(f\"⚠️ Variable '{nc_var}' not found in {fname}\")"
   ]
  },
  {
   "cell_type": "code",
   "execution_count": null,
   "metadata": {},
   "outputs": [],
   "source": [
    "time_all = np.concatenate(time_list) if time_list else np.array([])\n",
    "\n",
    "for var in data_by_var:\n",
    "    if data_by_var[var]:  # only concatenate if data was found\n",
    "        data_by_var[var] = np.concatenate(data_by_var[var], axis=0)\n",
    "    else:\n",
    "        data_by_var[var] = np.full((len(time_all), len(node_ids)), np.nan)\n",
    "\n",
    "out_path = outdir / f\"{year}.nc\"\n",
    "with nc4.Dataset(out_path, \"w\", format=\"NETCDF4\") as ds_out:\n",
    "    nt, nn = len(time_all), len(node_ids)\n",
    "\n",
    "    # Dimensions\n",
    "    ds_out.createDimension(\"time\", nt)\n",
    "    ds_out.createDimension(\"node\", nn)\n",
    "    ds_out.createDimension(\"name_strlen\", max_name_len)\n",
    "\n",
    "    # Coordinates and metadata\n",
    "    tvar = ds_out.createVariable(\"time\", \"f8\", (\"time\",))\n",
    "    tvar[:] = time_all\n",
    "    tvar.units = \"seconds since 1970-01-01 00:00:00\"\n",
    "    tvar.calendar = \"standard\"\n",
    "\n",
    "    lat = ds_out.createVariable(\"lat\", \"f4\", (\"node\",)); lat[:] = comm_lats\n",
    "    lon = ds_out.createVariable(\"lon\", \"f4\", (\"node\",)); lon[:] = comm_lons\n",
    "\n",
    "    name_array = np.array([list(n.ljust(max_name_len)) for n in comm_names], dtype=\"S1\")\n",
    "    name_var = ds_out.createVariable(\"community\", \"S1\", (\"node\", \"name_strlen\"))\n",
    "    name_var[:, :] = name_array\n",
    "\n",
    "    # Output variables\n",
    "    for var in data_by_var:\n",
    "        v = ds_out.createVariable(var, \"f4\", (\"time\", \"node\"), zlib=True)\n",
    "        v[:, :] = data_by_var[var]\n",
    "\n",
    "print(f\"✅ Extracted and saved to {out_path}\")"
   ]
  },
  {
   "cell_type": "code",
   "execution_count": null,
   "metadata": {},
   "outputs": [],
   "source": [
    "files = list((root / '2024'/'outputs').glob('*.nc'))\n",
    "years = ['2023','2022','2021','2020','2019','2018',\n",
    "         '2017','2016','2015','2014','2013','2012',\n",
    "         '2011','2010','2009','2008','2007','2006','2005']"
   ]
  },
  {
   "cell_type": "markdown",
   "metadata": {},
   "source": [
    "### Initialize path and read netcdf file"
   ]
  },
  {
   "cell_type": "code",
   "execution_count": 12,
   "metadata": {},
   "outputs": [],
   "source": [
    "\n",
    "\n",
    "ncfile = nc4.Dataset(root / '2024' /'outputs' / 'fort.74.nc')"
   ]
  },
  {
   "cell_type": "code",
   "execution_count": 13,
   "metadata": {},
   "outputs": [
    {
     "data": {
      "text/plain": [
       "<class 'netCDF4.Dataset'>\n",
       "root group (NETCDF4_CLASSIC data model, file format HDF5):\n",
       "    _FillValue: -99999.0\n",
       "    model: ADCIRC\n",
       "    version: noaa.stofs.2d.glo.v1.1.0r2-31-ga9ff86d\n",
       "    grid_type: Triangular\n",
       "    description: OceanMesh2D\n",
       "    agrid: OceanMesh2D\n",
       "    rundes: OceanMesh2D\n",
       "    runid: simtest\n",
       "    title: OceanMesh2D\n",
       "    institution: Notre Dame CHL\n",
       "    source: OceanMesh2D\n",
       "    history: History: None\n",
       "    references: https://github.com/CHLNDDEV/OceanMesh2D/\n",
       "    comments: Comments: None\n",
       "    host: Host: Name\n",
       "    convention: Metric, MSL\n",
       "    Conventions: UGRID-0.9.0\n",
       "    contact: name@instit.edu\n",
       "    creation_date: 2025-02-21 11:33:32 -05:00\n",
       "    modification_date: 2025-02-21 11:33:32 -05:00\n",
       "    fort.15: ==== Input File Parameters (below) ====\n",
       "    dt: 3.0\n",
       "    ihot: 0\n",
       "    ics: 2\n",
       "    nolibf: 1\n",
       "    nolifa: 2\n",
       "    nolica: 1\n",
       "    nolicat: 1\n",
       "    nwp: 2\n",
       "    ncor: 1\n",
       "    ntip: 2\n",
       "    nws: 12\n",
       "    nramp: 1\n",
       "    tau0: -3.0\n",
       "    statim: 0.0\n",
       "    reftim: 0.0\n",
       "    rnday: 382.0\n",
       "    dramp: 2.0\n",
       "    a00: 0.4\n",
       "    b00: 0.4\n",
       "    c00: 0.2\n",
       "    h0: 0.1\n",
       "    slam0: -160.926659\n",
       "    sfea0: 64.812259\n",
       "    cf: 0.001333\n",
       "    eslm: -0.2\n",
       "    cori: 0.0001\n",
       "    ntif: 11\n",
       "    nbfr: 14\n",
       "    dimensions(sizes): time(9120), node(861878), nele(1661200), nvertex(3), nope(2), neta(94), max_nvdll(51), nbou(12), nvel(62488), max_nvell(50001), mesh(1)\n",
       "    variables(dimensions): float64 time(time), float64 x(node), float64 y(node), int32 element(nele, nvertex), int32 adcirc_mesh(mesh), int32 neta(), int32 nvdll(nope), int32 max_nvdll(), int32 ibtypee(nope), int32 nbdv(neta), int32 nvel(), int32 nvell(nbou), int32 max_nvell(), int32 ibtype(nbou), int32 nbvv(nvel), float64 depth(node), float64 windx(time, node), float64 windy(time, node)\n",
       "    groups: "
      ]
     },
     "execution_count": 13,
     "metadata": {},
     "output_type": "execute_result"
    }
   ],
   "source": [
    "ncfile"
   ]
  },
  {
   "cell_type": "code",
   "execution_count": null,
   "metadata": {},
   "outputs": [],
   "source": []
  }
 ],
 "metadata": {
  "kernelspec": {
   "display_name": "general",
   "language": "python",
   "name": "python3"
  },
  "language_info": {
   "codemirror_mode": {
    "name": "ipython",
    "version": 3
   },
   "file_extension": ".py",
   "mimetype": "text/x-python",
   "name": "python",
   "nbconvert_exporter": "python",
   "pygments_lexer": "ipython3",
   "version": "3.12.9"
  }
 },
 "nbformat": 4,
 "nbformat_minor": 4
}
