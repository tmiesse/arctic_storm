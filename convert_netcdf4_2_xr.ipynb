{
 "cells": [
  {
   "cell_type": "markdown",
   "metadata": {},
   "source": [
    "# Model Output Notebook\n",
    "\n",
    "<img style=\"float:center;\" src=\"https://arcticexpansion.vse.gmu.edu/sites/arcticexpansion.vsnet.gmu.edu/files/images/header5d2.png\" width=600px>\n",
    "\n",
    "### ADCIRC-SWAN Output\n"
   ]
  },
  {
   "cell_type": "markdown",
   "metadata": {},
   "source": [
    "### Initialize Libraries"
   ]
  },
  {
   "cell_type": "code",
   "execution_count": 1,
   "metadata": {},
   "outputs": [],
   "source": [
    "import netCDF4 as nc4;\n",
    "import pathlib as pl;     \n",
    "import numpy as np   "
   ]
  },
  {
   "cell_type": "markdown",
   "metadata": {},
   "source": [
    "source $HOME/miniforge3/bin/activate\n",
    "\n",
    "salloc --ntasks=5 --nodes=1 --partition=normal --time=10:00:00"
   ]
  },
  {
   "cell_type": "markdown",
   "metadata": {},
   "source": [
    "### Defined Functions"
   ]
  },
  {
   "cell_type": "markdown",
   "metadata": {},
   "source": [
    "#### Data for this exercise can be found here\n",
    "https://doi.org/10.17603/ds2-h0fw-2p96\n",
    "\n",
    "Download the swan_HS.63.nc from one of the 4 folders\n",
    "\n",
    "---"
   ]
  },
  {
   "cell_type": "code",
   "execution_count": 2,
   "metadata": {},
   "outputs": [],
   "source": [
    "INPUT_ROOT = pl.Path('/groups/ORC-CLIMATE/fhrl_repo/Arctic_Database/Raw_DATA')\n",
    "OUTPUT_ROOT = pl.Path('/scratch/tmiesse/project/data4spatial')\n"
   ]
  },
  {
   "cell_type": "code",
   "execution_count": 3,
   "metadata": {},
   "outputs": [
    {
     "name": "stdout",
     "output_type": "stream",
     "text": [
      "Processing year 1981 → /scratch/tmiesse/project/data4spatial/1981/fort.63.cf.nc\n",
      "  → Done 1981\n",
      "All years processed. CF‑ified files are under: /scratch/tmiesse/project/data4spatial\n"
     ]
    }
   ],
   "source": [
    "YEARS       = [1981]\n",
    "KEEP_VARS = [\"time\", \"x\", \"y\", \"element\", \"zeta\", \"depth\"]\n",
    "for year in YEARS:\n",
    "    src_path = INPUT_ROOT / str(year) / 'outputs' / 'fort.63.nc'\n",
    "    if not src_path.exists():\n",
    "        print(f\"Skipping {year}: {src_path} not found\")\n",
    "        continue\n",
    "\n",
    "    # Prepare output directory for this year\n",
    "    out_dir = OUTPUT_ROOT / str(year)\n",
    "    out_dir.mkdir(parents=True, exist_ok=True)\n",
    "    dst_path = out_dir / 'fort.63.cf.nc'\n",
    "\n",
    "    print(f\"Processing year {year} → {dst_path}\")\n",
    "\n",
    "    with nc4.Dataset(src_path, 'r') as ds0, nc4.Dataset(dst_path, 'w') as ds1:\n",
    "        # 1) Copy global attributes\n",
    "        ds1.setncatts({k: ds0.getncattr(k) for k in ds0.ncattrs()})\n",
    "\n",
    "        # 2) Copy dimensions\n",
    "        for name, dim in ds0.dimensions.items():\n",
    "            ds1.createDimension(name, len(dim) if not dim.isunlimited() else None)\n",
    "\n",
    "        # 3) Copy selected variables, handling _FillValue\n",
    "        for name in KEEP_VARS:\n",
    "            var0 = ds0.variables[name]\n",
    "            out_name = \"face_node_connectivity\" if name == \"element\" else name\n",
    "\n",
    "            # Determine fill_value if present\n",
    "            fv = getattr(var0, \"_FillValue\", None)\n",
    "\n",
    "            # Create variable with fill_value if needed\n",
    "            if fv is not None:\n",
    "                var1 = ds1.createVariable(out_name,\n",
    "                                          var0.datatype,\n",
    "                                          var0.dimensions,\n",
    "                                          fill_value=fv)\n",
    "            else:\n",
    "                var1 = ds1.createVariable(out_name,\n",
    "                                          var0.datatype,\n",
    "                                          var0.dimensions)\n",
    "\n",
    "            # Copy the data\n",
    "            var1[:] = var0[:]\n",
    "\n",
    "            # Copy all attributes except _FillValue\n",
    "            for attr, val in var0.__dict__.items():\n",
    "                if attr == \"_FillValue\":\n",
    "                    continue\n",
    "                var1.setncattr(attr, val)\n",
    "\n",
    "            # Mark connectivity variable\n",
    "            if name == \"element\":\n",
    "                var1.setncattr(\"cf_role\", \"face_node_connectivity\")\n",
    "\n",
    "        # 4) Declare the mesh topology\n",
    "        mesh = ds1.createVariable(\"mesh2d\", \"i4\", ())\n",
    "        mesh.setncattr(\"cf_role\", \"mesh_topology\")\n",
    "        mesh.setncattr(\"topology_dimension\", 2)\n",
    "        mesh.setncattr(\"node_coordinates\", \"x y\")\n",
    "        mesh.setncattr(\"face_node_connectivity\", \"face_node_connectivity\")\n",
    "\n",
    "    print(f\"  → Done {year}\")\n",
    "\n",
    "print(\"All years processed. CF‑ified files are under:\", OUTPUT_ROOT)"
   ]
  },
  {
   "cell_type": "code",
   "execution_count": null,
   "metadata": {},
   "outputs": [],
   "source": []
  }
 ],
 "metadata": {
  "kernelspec": {
   "display_name": "general",
   "language": "python",
   "name": "python3"
  },
  "language_info": {
   "codemirror_mode": {
    "name": "ipython",
    "version": 3
   },
   "file_extension": ".py",
   "mimetype": "text/x-python",
   "name": "python",
   "nbconvert_exporter": "python",
   "pygments_lexer": "ipython3",
   "version": "3.12.9"
  }
 },
 "nbformat": 4,
 "nbformat_minor": 4
}
